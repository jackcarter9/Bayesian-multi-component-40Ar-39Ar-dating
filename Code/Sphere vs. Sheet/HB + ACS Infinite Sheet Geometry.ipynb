{
 "cells": [
  {
   "cell_type": "code",
   "execution_count": 1,
   "metadata": {},
   "outputs": [
    {
     "name": "stdout",
     "output_type": "stream",
     "text": [
      "Couldn't import dot_parser, loading of dot files will not be possible.\n"
     ]
    }
   ],
   "source": [
    "import numpy as np; import matplotlib.pyplot as plt\n",
    "import pymc3 as pm; from scipy import stats; import pandas as pd ;import os \n",
    "import theano; import seaborn as sns; from theano import shared, tensor as tt\n",
    "# Age, Age Error, 40Ar, 39Ar, 37Ar, 36Ar, Temperature\n",
    "cwd = os.chdir(\"/Users/jackcarter/Documents/Data_Mixtures\")\n",
    "df = pd.read_csv(\"mix_hb_acs.csv\", engine = 'python')\n"
   ]
  },
  {
   "cell_type": "code",
   "execution_count": 2,
   "metadata": {},
   "outputs": [],
   "source": [
    "from scipy import stats\n",
    "from pymc3.distributions import draw_values\n",
    "from pymc3.distributions import generate_samples\n",
    "from pymc3.theanof import floatX\n",
    "from pymc3.distributions.dist_math import bound\n",
    "from pymc3.distributions import (Continuous, draw_values, generate_samples)\n",
    "\n",
    "def assert_negative_support(var, label, distname, value=-1e-6):\n",
    "    # Checks for evidence of positive support for a variable\n",
    "    if var is None:\n",
    "        return\n",
    "    try:\n",
    "        # Transformed distribution\n",
    "        support = np.isfinite(var.transformed.distribution.dist\n",
    "                              .logp(value).tag.test_value)\n",
    "    except AttributeError:\n",
    "        try:\n",
    "            # Untransformed distribution\n",
    "            support = np.isfinite(var.distribution.logp(value).tag.test_value)\n",
    "        except AttributeError:\n",
    "            # Otherwise no direct evidence of non-positive support\n",
    "            support = False\n",
    "\n",
    "    if np.any(support):\n",
    "        msg = \"The variable specified for {0} has negative support for {1}, \".format(\n",
    "            label, distname)\n",
    "        msg += \"likely making it unsuitable for this parameter.\"\n",
    "        warnings.warn(msg)\n",
    "\n",
    "\n",
    "def get_tau_sigma(tau=None, sigma=None):\n",
    "    if tau is None:\n",
    "        if sigma is None:\n",
    "            sigma = 1.\n",
    "            tau = 1.\n",
    "        else:\n",
    "            tau = sigma**-2.\n",
    "\n",
    "    else:\n",
    "        if sigma is not None:\n",
    "            raise ValueError(\"Can't pass both tau and sigma\")\n",
    "        else:\n",
    "            sigma = tau**-.5\n",
    "\n",
    "    # cast tau and sigma to float in a way that works for both np.arrays\n",
    "    # and pure python\n",
    "    tau = 1. * tau\n",
    "    sigma = 1. * sigma\n",
    "\n",
    "    return floatX(tau), floatX(sigma)\n",
    "\n",
    "\n",
    "class Sum_of_Squares(pm.distributions.Continuous):\n",
    "\n",
    "    def __init__(self, mu=0, sigma=None, tau=None, sd=None, **kwargs):\n",
    "        if sd is not None:\n",
    "            sigma = sd\n",
    "        tau, sigma = get_tau_sigma(tau=tau, sigma=sigma)\n",
    "        self.sigma = self.sd = tt.as_tensor_variable(sigma)\n",
    "        self.tau = tt.as_tensor_variable(tau)\n",
    "\n",
    "        self.mean = self.median = self.mode = self.mu = mu = tt.as_tensor_variable(floatX(mu))\n",
    "        self.variance = 1. / self.tau\n",
    "\n",
    "        assert_negative_support(sigma, 'sigma', 'Normal')\n",
    "        assert_negative_support(tau, 'tau', 'Normal')\n",
    "\n",
    "        super().__init__(**kwargs)\n",
    "\n",
    "    def random(self, point=None, size=None):\n",
    "        \n",
    "        mu, tau, _ = draw_values([self.mu, self.tau, self.sigma],\n",
    "                                 point=point, size=size)\n",
    "        return generate_samples(stats.norm.rvs, loc=mu, scale=tau**-0.5,\n",
    "                                dist_shape=self.shape,\n",
    "                                size=size)\n",
    "\n",
    "    def logp(self, value):\n",
    "        \"\"\"\n",
    "        Sum of Squares\n",
    "        \n",
    "        \"\"\"\n",
    "        sigma = self.sigma\n",
    "        tau = self.tau\n",
    "        mu = self.mu\n",
    "\n",
    "        return bound(-(value - mu)**2 + tt.log(2*tau)/ 2.,\n",
    "                     sigma > 0)\n"
   ]
  },
  {
   "cell_type": "code",
   "execution_count": 3,
   "metadata": {},
   "outputs": [],
   "source": [
    "temp = df['Temperature (Degrees Celcius)'].values\n",
    "age = df['Age'].values\n",
    "age_err = df['Age Error'].values\n",
    "ar39 = df['39Ar'].values\n",
    "ar39_Err = df['39Ar_Err'].values"
   ]
  },
  {
   "cell_type": "code",
   "execution_count": 5,
   "metadata": {},
   "outputs": [
    {
     "data": {
      "text/plain": [
       "array([12.33, 12.87, 12.95, 12.83, 12.92, 12.84, 12.81, 12.9 , 12.74,\n",
       "       12.69, 12.56, 12.51, 12.21, 11.48, 10.58,  9.45,  8.  ,  6.38,\n",
       "        4.66,  3.63,  2.99,  2.72,  2.63,  2.53,  2.39,  2.38,  2.4 ,\n",
       "        2.4 ,  2.38,  2.54,  2.53,  2.28,  2.2 ,  2.16,  2.2 ,  2.05,\n",
       "        1.89,  1.71,  1.42,  1.25,  1.36,  1.38,  1.62])"
      ]
     },
     "execution_count": 5,
     "metadata": {},
     "output_type": "execute_result"
    }
   ],
   "source": [
    "age"
   ]
  },
  {
   "cell_type": "code",
   "execution_count": 4,
   "metadata": {},
   "outputs": [],
   "source": [
    "def frel(a): \n",
    "    y = np.cumsum(a)\n",
    "    z = y/y.max()\n",
    "    return z"
   ]
  },
  {
   "cell_type": "code",
   "execution_count": null,
   "metadata": {},
   "outputs": [],
   "source": [
    "ww = frel(ar39)"
   ]
  },
  {
   "cell_type": "code",
   "execution_count": null,
   "metadata": {},
   "outputs": [
    {
     "data": {
      "text/plain": [
       "[<matplotlib.lines.Line2D at 0x1c194aa780>]"
      ]
     },
     "execution_count": 6,
     "metadata": {},
     "output_type": "execute_result"
    },
    {
     "data": {
      "image/png": "[encoded data removed]",
      "text/plain": [
       "<Figure size 648x324 with 2 Axes>"
      ]
     },
     "metadata": {},
     "output_type": "display_data"
    }
   ],
   "source": [
    "sns.set_style('ticks')\n",
    "fig, ax = plt.subplots(1,2, figsize = (9, 4.5))\n",
    "\n",
    "ax[0].plot(ww, age, \n",
    "        drawstyle = 'steps', \n",
    "          lw = 3)\n",
    "ax[1].plot(temp, ww, 'or', \n",
    "          color = 'blue', alpha = .48, markersize = 10)"
   ]
  },
  {
   "cell_type": "markdown",
   "metadata": {},
   "source": [
    "## Testing the simplifying assumption of spherical goemetry with comparison to infinite sheet for the Biotite component"
   ]
  },
  {
   "cell_type": "code",
   "execution_count": null,
   "metadata": {},
   "outputs": [],
   "source": [
    "def Incre_sheet(ea, d0, a, temp, t): \n",
    "    R = 8.314e-3\n",
    "    D = d0*np.exp(-ea/(R*temp))\n",
    "    q1 = (2/np.sqrt(np.pi))*(D*t/a**2)**0.5\n",
    "    \n",
    "    dq1 = (ea * ((D*t)/a**2)**0.5)/(np.sqrt(np.pi) * R * temp**2)\n",
    "    \n",
    "    dq2 = (2*d0*ea*t * np.exp((-np.pi**2 * D * t)/(4*a**2) - ea/(R*temp)))/(a**2 * R * temp**2)\n",
    "    \n",
    "    z = tt.switch(q1 < 0.6, dq1, dq2)\n",
    "    \n",
    "    return z\n",
    "\n",
    "\n",
    "def frac_sheet(ea, d0, a, temp, t): \n",
    "    \n",
    "    R = 8.314e-3\n",
    "    D = d0*np.exp(-ea/(R*temp))\n",
    "    \n",
    "    q1 = (2/np.sqrt(np.pi))*(D*t/a**2)**0.5\n",
    "    \n",
    "    q2 = 1 - (8/(np.pi **2))*np.exp(- (np.pi**2) * ((D * t)/(4*a**2)))\n",
    "    \n",
    "    z = tt.switch(q1 < 0.6, q1, q2)\n",
    "    \n",
    "    return z"
   ]
  },
  {
   "cell_type": "markdown",
   "metadata": {},
   "source": [
    "# Model\n",
    "\n",
    "- In this model we will assess the assumption of spherical geometery\n",
    "- By describing the biotite as an infinite sheet "
   ]
  },
  {
   "cell_type": "code",
   "execution_count": null,
   "metadata": {},
   "outputs": [],
   "source": [
    "def Increment(ea, d0, a, temp, t):\n",
    "    R = 8.314e-3\n",
    "    \n",
    "    D0t = (d0/(a**2))*np.exp(-ea/(R*temp))*t\n",
    "    \n",
    "    q = (6./(np.pi**(3/2)))*np.sqrt((np.pi**2)*D0t)\n",
    "    \n",
    "    aa1 = np.sqrt(np.pi) * R * temp**2\n",
    "    bb1 = d0*np.exp(-ea/(R*temp))*t\n",
    "    z1 = (3*ea *np.sqrt(bb1/a**2))/aa1\n",
    "    \n",
    "\n",
    "    aa2 = np.sqrt(np.pi) * R *temp**2\n",
    "    bb2 = d0*np.exp(-ea/(R*temp))*t\n",
    "    z2 = (3*ea*(np.sqrt(bb2/a**2) - np.sqrt(np.pi)*bb2/a**2))/aa2\n",
    "      \n",
    "    \n",
    "    aa3 = a**2 * R * temp**2\n",
    "    bb3 = d0*np.exp(-ea/(R*temp))*t\n",
    "    z3 = 6 * d0 * ea * t * np.exp((-np.pi**2 * bb3/a**2) - ea/(R*temp))/aa3\n",
    "\n",
    "    \n",
    "    Q = tt.switch(q <= 0.9,\n",
    "                z2,\n",
    "                 z3)\n",
    "    \n",
    "    T = tt.switch(q < 0.1, z1, Q)\n",
    "    \n",
    "    \n",
    "    return T\n",
    "\n",
    "\n",
    "\n",
    "def fracrelx(Ea, D0, a, temp, time): \n",
    "    R = 8.314e-3\n",
    "    D0t = (D0/(a**2))*np.exp(-Ea/(R*temp))*time\n",
    "    \n",
    "    q = (6./(np.pi**(3/2)))*np.sqrt((np.pi**2)*D0t)\n",
    "    \n",
    "    q1 = (6./(np.pi**(1.5)))*np.sqrt((np.pi**2)*D0t)\n",
    "    \n",
    "    q2 = (6./(np.pi**(3/2)))*np.sqrt((np.pi**2)*D0t)\\\n",
    "    - (3./(np.pi**2)) *((np.pi**2)* D0t)\n",
    "    \n",
    "    q3 = 1 - (6./(np.pi**2)) *np.exp(-(np.pi**2)*D0t)\n",
    "     \n",
    "    \n",
    "    \n",
    "    Q = tt.switch(q <= 0.9, q2, q3)\n",
    "    T = tt.switch(q < 0.1, q, Q)\n",
    "    \n",
    "    return T"
   ]
  },
  {
   "cell_type": "markdown",
   "metadata": {},
   "source": [
    "# Arrhenius and Age Spectra Inversion "
   ]
  },
  {
   "cell_type": "code",
   "execution_count": null,
   "metadata": {},
   "outputs": [],
   "source": [
    "ww = frel(ar39)\n",
    "R = 8.314e-3\n",
    "tk = temp + 273.15\n",
    "time = 300*np.ones(len(tk))\n",
    "a_err = shared(age_err)\n",
    "N = age.shape[0]\n",
    "data3 = ww\n",
    "data1 = age"
   ]
  },
  {
   "cell_type": "code",
   "execution_count": null,
   "metadata": {},
   "outputs": [
    {
     "name": "stderr",
     "output_type": "stream",
     "text": [
      "INFO (theano.gof.compilelock): Waiting for existing lock by process '16256' (I am process '17275')\n",
      "INFO (theano.gof.compilelock): To manually release the lock, delete /Users/jackcarter/.theano/compiledir_Darwin-16.7.0-x86_64-i386-64bit-i386-3.6.8-64/lock_dir\n"
     ]
    }
   ],
   "source": [
    "data3 = ww\n",
    "data1 = age\n",
    "W = pm.Model() \n",
    "M = 6\n",
    "import pymc3.distributions.transforms as tr\n",
    "with W:   \n",
    "    \"\"\"\n",
    "    Mixing Fraction\n",
    "    \"\"\" \n",
    "    phi = pm.Dirichlet('phi', a = np.array([0.25,0.75]),\n",
    "                      shape = 2, \n",
    "                      testval = (0.25, 0.75))\n",
    "    \n",
    "\n",
    "    \"\"\"\n",
    "    Diffusion Kinetics\n",
    "    \"\"\"\n",
    "    \n",
    "    ea1 = pm.Normal('ea1',\n",
    "                    mu = 196,\n",
    "                    sd = 16)\n",
    "    \n",
    "    ea2 = pm.Normal('ea2', \n",
    "                    mu = 220,\n",
    "                    sd = 9)\n",
    "    \n",
    "    lnd01 = pm.Normal('lnd01', mu = -2.6, sd = 1.9)\n",
    "    \n",
    "    \n",
    "    lnd02 = pm.Normal('lnd02', mu = 8.4,\n",
    "                      sd = 1)\n",
    "    \n",
    "    d01 = pm.Deterministic('d01', np.exp(lnd01))\n",
    "    \n",
    "    d02 = pm.Deterministic('d02',np.exp(lnd02) * (0.02**2))\n",
    "    \n",
    "\n",
    "    \n",
    "    \"\"\"\n",
    "    Effective Diffusion lengthscale\n",
    "    \"\"\"\n",
    "    a1 = pm.Uniform('a1',\n",
    "                    lower = 0.001, \n",
    "                    upper = 0.0032)\n",
    "    \n",
    "    a2 = pm.Uniform('a2',\n",
    "                    lower = 0.001, \n",
    "                    upper = 0.0032)"
   ]
  },
  {
   "cell_type": "code",
   "execution_count": null,
   "metadata": {},
   "outputs": [],
   "source": [
    "with W: \n",
    "    \n",
    "    age1 = pm.Uniform('age1', lower = 0.0, upper= 4600, \n",
    "                             testval = 50)\n",
    "    \n",
    "    age2 = pm.Uniform('age2',lower = 0.0, upper= 4600, \n",
    "                             testval = 20)\n",
    "    \n",
    "    "
   ]
  },
  {
   "cell_type": "code",
   "execution_count": null,
   "metadata": {},
   "outputs": [],
   "source": [
    "with W:\n",
    "    # Mixture weights\n",
    "    w1 = phi[0]\n",
    "    w2 = phi[1]\n",
    "    \n",
    "    \"\"\"\n",
    "    Cumulative Release Models\n",
    "    \"\"\"\n",
    "    A = frac_sheet(ea1, d01, a1, tk, time)\n",
    "    B = fracrelx(ea2, d02, a2, tk, time)\n",
    "    A = pm.Deterministic('A', A)\n",
    "    B = pm.Deterministic('B', B)\n",
    "    #Model\n",
    "    mu1 = w1*A + w2*B\n",
    " ############################################################################\n",
    "    # Add Monontonic Constraints to all fractional release \n",
    "    for i in range(len(tk) - 1): \n",
    "        fracrel_cons = pm.Potential(f'frel_cons{i}', \n",
    "                                       tt.switch(A[i + 1] - A[i] < 0, \n",
    "                                                 -np.inf, 0) + \n",
    "                                       tt.switch(B[i + 1] - B[i] < 0, \n",
    "                                                -np.inf, 0)) \n",
    "        \n",
    "    # Add Monontonic Constraints to all fractional release \n",
    "    for i in range(len(tk) - 1): \n",
    "        fracrel_cons = pm.Potential(f'frel_consbb{i}', \n",
    "                                       tt.switch(mu1[i + 1] - mu1[i] < 0, \n",
    "                                                 -np.inf, 0) + \n",
    "                                   tt.switch(mu1.max() > 1, -np.inf, 0))\n",
    "###########################################################################\n",
    "    # Model \n",
    "    model1 = pm.Deterministic('model1', mu1)\n",
    "    \n",
    "    \n",
    "    \n",
    "    f_err1 = pm.HalfNormal('f_err1', \n",
    "                           sd = 0.1, \n",
    "                          shape = N)\n",
    "    "
   ]
  },
  {
   "cell_type": "code",
   "execution_count": null,
   "metadata": {},
   "outputs": [],
   "source": [
    "with W: \n",
    "\n",
    "    X = Incre_sheet(ea1, d01, a1, tk, time)\n",
    "    Y = Increment(ea2, d02, a2, tk, time)\n",
    "    \n",
    "    YY = pm.Deterministic('YY', Y)\n",
    "    XX = pm.Deterministic('XX', X)\n",
    "    \n",
    "    #Model    \n",
    "    mu2 = ((w1*X)/(w1*X + w2*Y))*age1 + ((w2*Y)/(w1*X + w2*Y))*age2\n",
    "    \n",
    "    # Model Trace\n",
    "    model2 = pm.Deterministic('model2', mu2)\n",
    "    \n",
    "    age_model_err = pm.HalfNormal('age_model_err', sd = 2, \n",
    "                                 shape = N)"
   ]
  },
  {
   "cell_type": "code",
   "execution_count": null,
   "metadata": {},
   "outputs": [],
   "source": [
    "def logp(mod, data, err): \n",
    "    logp = -0.5*tt.sum((((data - mod)/err)**2))\n",
    "    return logp"
   ]
  },
  {
   "cell_type": "code",
   "execution_count": null,
   "metadata": {},
   "outputs": [],
   "source": [
    "with W: \n",
    "    #Fractional Release\n",
    "    obs1 = pm.Normal('obs1', mu = mu1, sd = f_err1, \n",
    "                        observed = data3)\n",
    "\n",
    "    # Age    \n",
    "    obs2 = Sum_of_Squares('obs2', mu2, age_model_err, \n",
    "                         observed= data1)"
   ]
  },
  {
   "cell_type": "code",
   "execution_count": null,
   "metadata": {},
   "outputs": [
    {
     "data": {
      "text/plain": [
       "a1_interval__             -1.39\n",
       "a2_interval__             -1.39\n",
       "age1_interval__           -4.86\n",
       "age2_interval__           -5.78\n",
       "age_model_err_log__      -33.11\n",
       "ea1                       -3.69\n",
       "ea2                       -3.12\n",
       "f_err1_log__             -33.11\n",
       "lnd01                     -1.56\n",
       "lnd02                     -0.92\n",
       "obs1                     -39.96\n",
       "obs2                  -16861.21\n",
       "phi_stickbreaking__       -2.05\n",
       "Name: Log-probability of test_point, dtype: float64"
      ]
     },
     "execution_count": 16,
     "metadata": {},
     "output_type": "execute_result"
    }
   ],
   "source": [
    "W.check_test_point()"
   ]
  },
  {
   "cell_type": "code",
   "execution_count": null,
   "metadata": {
    "scrolled": true
   },
   "outputs": [
    {
     "name": "stderr",
     "output_type": "stream",
     "text": [
      "Multiprocess sampling (2 chains in 2 jobs)\n",
      "CompoundStep\n",
      ">Metropolis: [age_model_err]\n",
      ">Metropolis: [f_err1]\n",
      ">Metropolis: [age2]\n",
      ">Metropolis: [age1]\n",
      ">Metropolis: [a2]\n",
      ">Metropolis: [a1]\n",
      ">Metropolis: [lnd02]\n",
      ">Metropolis: [lnd01]\n",
      ">Metropolis: [ea2]\n",
      ">Metropolis: [ea1]\n",
      ">Metropolis: [phi]\n",
      "Sampling 2 chains:   3%|▎         | 19390/600000 [02:23<1:12:44, 133.04draws/s]"
     ]
    }
   ],
   "source": [
    "SAMPLES = 100000\n",
    "BURN = 200000\n",
    "with W: \n",
    "    # Compound Steps\n",
    "    step1 = pm.NUTS([phi, \n",
    "                     ea1, ea2,\n",
    "                     d01, d02,\n",
    "                     f_err1], \n",
    "                   target_accept = 0.83, \n",
    "                   max_treedepth = 14)\n",
    "    \n",
    "    step2 = pm.Metropolis([a1, a2, \n",
    "                          age1, age2, \n",
    "                          age_model_err])\n",
    "    \n",
    "    # Steps\n",
    "    trace = pm.sample(SAMPLES, tune = BURN, \n",
    "                     step = pm.Metropolis(), \n",
    "                     cores = 2)\n"
   ]
  },
  {
   "cell_type": "code",
   "execution_count": 121,
   "metadata": {},
   "outputs": [
    {
     "name": "stderr",
     "output_type": "stream",
     "text": [
      "/Applications/anaconda3/lib/python3.6/site-packages/ipykernel_launcher.py:2: DeprecationWarning: sample_ppc() is deprecated.  Please use sample_posterior_predictive()\n",
      "  \n",
      "  0%|          | 0/5000 [00:00<?, ?it/s]INFO (theano.gof.compilelock): Refreshing lock /Users/jackcarter/.theano/compiledir_Darwin-16.7.0-x86_64-i386-64bit-i386-3.6.8-64/lock_dir/lock\n",
      "100%|██████████| 5000/5000 [00:40<00:00, 122.35it/s]\n"
     ]
    }
   ],
   "source": [
    "with W:\n",
    "    ppc = pm.sample_ppc(trace[-10000:], 5000)"
   ]
  },
  {
   "cell_type": "markdown",
   "metadata": {},
   "source": [
    "# Models"
   ]
  },
  {
   "cell_type": "code",
   "execution_count": 122,
   "metadata": {},
   "outputs": [],
   "source": [
    "zz1 = ppc['obs1'].mean(axis = 0)\n",
    "zz2 = ppc['obs2'].mean(axis = 0)"
   ]
  },
  {
   "cell_type": "markdown",
   "metadata": {},
   "source": [
    "# 95% Model Credible Intervals "
   ]
  },
  {
   "cell_type": "code",
   "execution_count": 123,
   "metadata": {},
   "outputs": [],
   "source": [
    "f_low, f_high = np.percentile(ppc['obs1'],\n",
    "                              [2.5, 97.5],\n",
    "                              axis = 0)\n",
    "\n",
    "age_mod_low, age_mod_high = np.percentile(ppc['obs2'], \n",
    "                                         [2.5, 97.5], \n",
    "                                         axis = 0)\n",
    "\n"
   ]
  },
  {
   "cell_type": "code",
   "execution_count": 124,
   "metadata": {},
   "outputs": [
    {
     "data": {
      "text/plain": [
       "[<matplotlib.lines.Line2D at 0x1cf7522978>]"
      ]
     },
     "execution_count": 124,
     "metadata": {},
     "output_type": "execute_result"
    },
    {
     "data": {
      "image/png": "[encoded data removed]",
      "text/plain": [
       "<Figure size 504x360 with 2 Axes>"
      ]
     },
     "metadata": {},
     "output_type": "display_data"
    }
   ],
   "source": [
    "fig, ax = plt.subplots(1, 2, figsize = (7, 5))\n",
    "\n",
    "ax[0].fill_between(zz1, age_mod_low, \n",
    "                  age_mod_high, \n",
    "                  step = 'pre',  \n",
    "                  alpha = 0.8, \n",
    "                  color = 'r', \n",
    "                  label = '95% Credible\\nInterval')\n",
    "\n",
    "ax[0].plot(zz1, zz2, 'r-', \n",
    "          lw = 2, \n",
    "          label = 'Mean\\nPosterior\\nModel')\n",
    "\n",
    "\n",
    "ax[0].fill_between(ww, age + age_err, age - age_err, \n",
    "        step = 'pre', alpha = 0.8, color = 'grey',\n",
    "          edgecolor = 'k')\n",
    "\n",
    "\n",
    "ax[1].fill_between(temp, f_low, f_high, \n",
    "                  color = 'r', alpha = 0.8)\n",
    "\n",
    "ax[1].plot(temp, zz1, '-or', \n",
    "          lw = 2, label = 'Mean\\nPosterior\\nModel')\n",
    "ax[1].plot(temp, ww, '-ok', \n",
    "          label = 'Data')\n",
    "\n"
   ]
  },
  {
   "cell_type": "markdown",
   "metadata": {},
   "source": [
    "# DataFrames for plotting\n",
    "\n",
    "1. DataFrame of data and mean posterior models and 95% Credibel intervals"
   ]
  },
  {
   "cell_type": "code",
   "execution_count": 125,
   "metadata": {},
   "outputs": [],
   "source": [
    "# Data frame for mean posterior model \n",
    "\n",
    "df1 = pd.DataFrame({\"model_age\": zz2, \n",
    "                   \"model_age_low\": age_mod_low, \n",
    "                   \"model_age_high\":age_mod_high, \n",
    "                   \"frel_mod\": zz1, \n",
    "                   \"frel_mod_low\": f_low, \n",
    "                   \"frel_mod_low\": f_high, \n",
    "                   \"age_data\" : age, \n",
    "                   \"age_data_err\": age_err,\n",
    "                   \"frel_data\": ww, \n",
    "                   \"temp\": temp})"
   ]
  },
  {
   "cell_type": "code",
   "execution_count": 126,
   "metadata": {},
   "outputs": [],
   "source": [
    "# DataFrame for trace\n",
    "# PairPlot dataframe\n",
    "df2 = pm.trace_to_dataframe(trace[::5])"
   ]
  },
  {
   "cell_type": "code",
   "execution_count": 127,
   "metadata": {},
   "outputs": [],
   "source": [
    "df2.to_csv('hb_acs1_infinitesheet_trace.csv')\n",
    "df1.to_csv('hb_acs1_infinitesheet_post.csv')"
   ]
  },
  {
   "cell_type": "code",
   "execution_count": 128,
   "metadata": {},
   "outputs": [],
   "source": [
    "# SHeet plotting \n",
    "f_mod_plot = np.insert(zz1, 0, 0)\n",
    "f_data_plot2  = np.insert(ww, 0, 0)\n",
    "\n",
    "age_data2_plot = np.insert(age, 0, age[0])\n",
    "age_err2_plot = np.insert(age_err, 0, age_err[0])\n",
    "\n",
    "age_model2_plot = np.insert(zz2, 0, zz2[0])\n",
    "age_low_plot = np.insert(age_mod_low, 0, age_mod_low[0])\n",
    "age_high_plot = np.insert(age_mod_high, 0, age_mod_high[0])"
   ]
  },
  {
   "cell_type": "code",
   "execution_count": 129,
   "metadata": {},
   "outputs": [
    {
     "data": {
      "image/png": "[encoded data removed]",
      "text/plain": [
       "<Figure size 360x360 with 1 Axes>"
      ]
     },
     "metadata": {},
     "output_type": "display_data"
    }
   ],
   "source": [
    "sns.set_style('ticks')\n",
    "font = {\"family\": \"Arial\", \n",
    "       \"weight\": \"normal\", \n",
    "       \"size\": 15}\n",
    "\n",
    "plt.rc(\"font\", **font)\n",
    "\n",
    "plt.figure(figsize = (5,5))\n",
    "plt.fill_between(f_mod_plot, age_low_plot, \n",
    "                  age_high_plot, \n",
    "                  step = 'pre',  \n",
    "                  alpha = 0.5, \n",
    "                  facecolor = 'b', \n",
    "                  label = 'Sheet 95% Credible\\nInterval', \n",
    "                  edgecolor = 'k')\n",
    "\n",
    "plt.plot(f_mod_plot, age_model2_plot, 'b-', \n",
    "          lw = 1.3, \n",
    "          drawstyle = 'steps', \n",
    "        label = 'Sheet Mean\\nPosterior Model')\n",
    "\n",
    "\n",
    "plt.fill_between(f_data_plot2, age_data2_plot + age_err2_plot,\n",
    "                   age_data2_plot - age_err2_plot, \n",
    "        step = 'pre', alpha = 0.8, facecolor = 'grey',\n",
    "          edgecolor = 'k', \n",
    "                  label = 'Data')\n",
    "\n",
    "for i in range(len(age_data2_plot)): \n",
    "    plt.vlines(f_mod_plot, age_low_plot, \n",
    "                  age_high_plot, color = 'k', lw= 0.7)\n",
    "\n",
    "for i in range(len(age_data2_plot)): \n",
    "    plt.vlines(f_data_plot2, age_data2_plot + age_err2_plot,\n",
    "                   age_data2_plot - age_err2_plot,\n",
    "               color = 'k', lw= 0.7)\n",
    "\n",
    "plt.fill_between(ha_fmp, ha_alow, ha_ahigh, \n",
    "                    edgecolor = 'k', \n",
    "                    facecolor = 'r', \n",
    "                    step = 'pre', \n",
    "                    lw = 1.2, \n",
    "                    label = 'Sphere 95% Credible\\nInterval', \n",
    "                alpha = 0.4)\n",
    "plt.plot(ha_fmp, ha_am, lw = 1.3, color = 'r', \n",
    "        drawstyle = 'steps', \n",
    "        label = 'Sphere Mean\\nPosterior Model')\n",
    "\n",
    "\n",
    "plt.xlabel('Cumulative $^{39}$Ar Released')\n",
    "plt.ylabel('Age (Ma)')\n",
    "plt.legend(fontsize = 12)\n",
    "plt.xlim(0,1)\n",
    "plt.savefig('sphere_vs_sheet_hb_acs.pdf')"
   ]
  },
  {
   "cell_type": "code",
   "execution_count": 130,
   "metadata": {},
   "outputs": [],
   "source": [
    "df_ta = pd.read_csv('hb_acs_age_plot.csv')"
   ]
  },
  {
   "cell_type": "code",
   "execution_count": 131,
   "metadata": {},
   "outputs": [],
   "source": [
    "ha_am = df_ta['age_m'].values\n",
    "ha_alow = df_ta['age_low'].values\n",
    "ha_ahigh = df_ta['age_high'].values\n",
    "ha_fmp = df_ta['frel_plot'].values\n",
    "ha_data = df_ta['data'].values\n",
    "ha_data_err = df_ta['data_err'].values\n",
    "ha_frel_data = df_ta['f_data_plot'].values"
   ]
  },
  {
   "cell_type": "code",
   "execution_count": null,
   "metadata": {},
   "outputs": [],
   "source": []
  }
 ],
 "metadata": {
  "kernelspec": {
   "display_name": "Python 3",
   "language": "python",
   "name": "python3"
  },
  "language_info": {
   "codemirror_mode": {
    "name": "ipython",
    "version": 3
   },
   "file_extension": ".py",
   "mimetype": "text/x-python",
   "name": "python",
   "nbconvert_exporter": "python",
   "pygments_lexer": "ipython3",
   "version": "3.6.6"
  }
 },
 "nbformat": 4,
 "nbformat_minor": 2
}
