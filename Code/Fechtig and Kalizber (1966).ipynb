{
 "cells": [
  {
   "cell_type": "code",
   "execution_count": 1,
   "metadata": {},
   "outputs": [],
   "source": [
    "import numpy as np\n",
    "\n",
    "def FechKal(x,y): \n",
    "    da2 = []\n",
    "    y = y\n",
    "    x_cumulative = np.cumsum(x)\n",
    "    time_c = np.cumsum(y)\n",
    "    x_cumulative_with_zero = np.insert(x_cumulative,\n",
    "                                       0, 0)\n",
    "\n",
    "    f_x = x_cumulative/x_cumulative.max()\n",
    "    \n",
    "    deltat = time_c[1:-1] - time_c[0:-2]\n",
    "    \n",
    "    da2_a = np.zeros([len(x)])\n",
    "    da2_a[0] = (((f_x[0]**2 - 0**2))*np.pi)/(36*(deltat[0]))\n",
    "    \n",
    "    da2_a = ((f_x[1:-1]**2 - f_x[0:-2]**2)*np.pi)/(36*deltat)\n",
    "\n",
    "    da2_b = np.zeros([len(x)])\n",
    "    dif_f = f_x[1:-1] - f_x[0:-2]\n",
    "    da2_b = (1/((np.pi**2)*deltat))*(-(np.pi*np.pi/3)*dif_f -\n",
    "                                             (2*np.pi)*(np.sqrt(1 -(np.pi/3)*f_x[1:-1]) - np.sqrt(1 - (np.pi/3)*f_x[0:-2])))\n",
    "    \n",
    "    da2_c = np.zeros([len(x)])\n",
    "    da2_c = (1/(np.pi*np.pi*deltat))*\\\n",
    "    np.log((1 - f_x[0:-2])/(1 - f_x[1:-1]))\n",
    "    \n",
    "    \n",
    "    ka = f_x[(f_x <= 0.1) & (f_x > 0)]\n",
    "    kb = f_x[(f_x > 0.1) & (f_x <= 0.9)]\n",
    "    kc = f_x[(f_x > 0.9) & (f_x <= 1)]\n",
    "    \n",
    "    na = len(ka)\n",
    "    nb = len(kb)\n",
    "    nc = len(kc)\n",
    "    \n",
    "    a = da2_a[:na]\n",
    "    b = da2_b[na:(nb + na)]\n",
    "    c = da2_c[-nc:]\n",
    "    da2.extend(a)\n",
    "    da2.extend(b)\n",
    "    da2.extend(c)\n",
    "    \n",
    "    return da2"
   ]
  }
 ],
 "metadata": {
  "kernelspec": {
   "display_name": "Python 3",
   "language": "python",
   "name": "python3"
  },
  "language_info": {
   "codemirror_mode": {
    "name": "ipython",
    "version": 3
   },
   "file_extension": ".py",
   "mimetype": "text/x-python",
   "name": "python",
   "nbconvert_exporter": "python",
   "pygments_lexer": "ipython3",
   "version": "3.6.8"
  }
 },
 "nbformat": 4,
 "nbformat_minor": 2
}
