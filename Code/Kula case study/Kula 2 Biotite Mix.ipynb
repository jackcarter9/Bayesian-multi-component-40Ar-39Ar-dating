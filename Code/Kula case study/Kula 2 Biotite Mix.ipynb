{
 "cells": [
  {
   "cell_type": "code",
   "execution_count": 12,
   "metadata": {},
   "outputs": [
    {
     "name": "stderr",
     "output_type": "stream",
     "text": [
      "/Applications/anaconda3/lib/python3.7/site-packages/dask/config.py:168: YAMLLoadWarning: calling yaml.load() without Loader=... is deprecated, as the default Loader is unsafe. Please read https://msg.pyyaml.org/load for full details.\n",
      "  data = yaml.load(f.read()) or {}\n",
      "/Applications/anaconda3/lib/python3.7/site-packages/distributed/config.py:20: YAMLLoadWarning: calling yaml.load() without Loader=... is deprecated, as the default Loader is unsafe. Please read https://msg.pyyaml.org/load for full details.\n",
      "  defaults = yaml.load(f)\n"
     ]
    }
   ],
   "source": [
    "import pymc3 as pm ; import numpy as np \n",
    "import scipy as sc; import seaborn as sns\n",
    "import matplotlib.pyplot as plt\n",
    "%matplotlib inline\n",
    "import numpy as np; import pandas as pd ;import os \n",
    "font = {'family' : 'Arial',\n",
    "        'weight' : 'normal',\n",
    "        'size'   : 15}\n",
    "\n",
    "plt.rc('font', **font)\n",
    "plt.style.use('classic')\n",
    "\n"
   ]
  },
  {
   "cell_type": "markdown",
   "metadata": {},
   "source": [
    "# Sum of Squares Likelihood\n"
   ]
  },
  {
   "cell_type": "code",
   "execution_count": 13,
   "metadata": {},
   "outputs": [],
   "source": [
    "import theano \n",
    "import pymc3 as pm\n",
    "from scipy import stats\n",
    "from theano import shared, tensor as tt\n",
    "from pymc3.distributions import draw_values\n",
    "from pymc3.distributions import generate_samples\n",
    "from pymc3.theanof import floatX\n",
    "from pymc3.distributions.dist_math import bound\n",
    "from pymc3.distributions import (Continuous, draw_values, generate_samples)\n",
    "\n",
    "def assert_negative_support(var, label, distname, value=-1e-6):\n",
    "    # Checks for evidence of positive support for a variable\n",
    "    if var is None:\n",
    "        return\n",
    "    try:\n",
    "        # Transformed distribution\n",
    "        support = np.isfinite(var.transformed.distribution.dist\n",
    "                              .logp(value).tag.test_value)\n",
    "    except AttributeError:\n",
    "        try:\n",
    "            # Untransformed distribution\n",
    "            support = np.isfinite(var.distribution.logp(value).tag.test_value)\n",
    "        except AttributeError:\n",
    "            # Otherwise no direct evidence of non-positive support\n",
    "            support = False\n",
    "    if np.any(support):\n",
    "        msg = \"The variable specified for {0} has negative support for {1}, \".format(\n",
    "            label, distname)\n",
    "        msg += \"likely making it unsuitable for this parameter.\"\n",
    "        warnings.warn(msg)\n",
    "def get_tau_sigma(tau=None, sigma=None):\n",
    "    if tau is None:\n",
    "        if sigma is None:\n",
    "            sigma = 1.\n",
    "            tau = 1.\n",
    "        else:\n",
    "            tau = sigma**-2.\n",
    "\n",
    "    else:\n",
    "        if sigma is not None:\n",
    "            raise ValueError(\"Can't pass both tau and sigma\")\n",
    "        else:\n",
    "            sigma = tau**-.5\n",
    "    # cast tau and sigma to float in a way that works for both np.arrays\n",
    "    # and pure python\n",
    "    tau = 1. * tau\n",
    "    sigma = 1. * sigma\n",
    "    return floatX(tau), floatX(sigma)\n",
    "class Sum_of_Squares(pm.distributions.Continuous):\n",
    "    def __init__(self, mu=0, sigma=None, tau=None, sd=None, **kwargs):\n",
    "        if sd is not None:\n",
    "            sigma = sd\n",
    "        tau, sigma = get_tau_sigma(tau=tau, sigma=sigma)\n",
    "        self.sigma = self.sd = tt.as_tensor_variable(sigma)\n",
    "        self.tau = tt.as_tensor_variable(tau)\n",
    "        self.mean = self.median = self.mode = self.mu = mu = tt.as_tensor_variable(floatX(mu))\n",
    "        self.variance = 1. / self.tau\n",
    "        assert_negative_support(sigma, 'sigma', 'Normal')\n",
    "        assert_negative_support(tau, 'tau', 'Normal')\n",
    "        super().__init__(**kwargs)\n",
    "    def random(self, point=None, size=None):\n",
    "        \n",
    "        mu, tau, _ = draw_values([self.mu, self.tau, self.sigma],\n",
    "                                 point=point, size=size)\n",
    "        return generate_samples(stats.norm.rvs, loc=mu, scale=tau**-0.5,\n",
    "                                dist_shape=self.shape,\n",
    "                                size=size)\n",
    "    def logp(self, value):\n",
    "        \"\"\"\n",
    "        Sum of Squares\n",
    "        \n",
    "        \"\"\"\n",
    "        sigma = self.sigma\n",
    "        tau = self.tau\n",
    "        mu = self.mu\n",
    "        \n",
    "        logp = - tt.sqr(value - mu)/(2.0 * sigma *sigma)\n",
    "        return logp.sum()"
   ]
  },
  {
   "cell_type": "code",
   "execution_count": 14,
   "metadata": {},
   "outputs": [],
   "source": [
    "cwd = os.chdir(\"/Users/danbarfod/Downloads\")\n",
    "df5 = pd.read_csv(\"Kula_Biotite_2_data.csv\",\n",
    "                  engine = 'python')\n",
    "df5.dropna(axis =0, how = 'all')\n",
    "\n",
    "temp1 = df5['Temp'].values\n",
    "time1 = df5['Time'].values\n",
    "a391 = df5['39Ar'].values\n",
    "a401 = df5['40Ar'].values\n",
    "age1 = df5['Age'].values\n",
    "age1_err = df5['Age_Err'].values"
   ]
  },
  {
   "cell_type": "code",
   "execution_count": 17,
   "metadata": {},
   "outputs": [],
   "source": [
    "# Shared variable for modelling \n",
    "from theano import shared, tensor as tt\n",
    "data = age1\n",
    "err = age1_err\n",
    "\n",
    "age_err = shared(err*2)"
   ]
  },
  {
   "cell_type": "code",
   "execution_count": 18,
   "metadata": {},
   "outputs": [],
   "source": [
    "def Increment(ea, d0, a, temp, t):\n",
    "    R = 8.314e-3\n",
    "    \n",
    "    D0t = (d0/(a**2))*np.exp(-ea/(R*temp))*t\n",
    "    \n",
    "    q = (6./(np.pi**(3/2)))*np.sqrt((np.pi**2)*D0t)\n",
    "    \n",
    "    aa1 = np.sqrt(np.pi) * R * temp**2\n",
    "    bb1 = d0*np.exp(-ea/(R*temp))*t\n",
    "    z1 = (3*ea *np.sqrt(bb1/a**2))/aa1\n",
    "    \n",
    "\n",
    "    aa2 = np.sqrt(np.pi) * R *temp**2\n",
    "    bb2 = d0*np.exp(-ea/(R*temp))*t\n",
    "    z2 = (3*ea*(np.sqrt(bb2/a**2) - np.sqrt(np.pi)*bb2/a**2))/aa2\n",
    "      \n",
    "    \n",
    "    aa3 = a**2 * R * temp**2\n",
    "    bb3 = d0*np.exp(-ea/(R*temp))*t\n",
    "    z3 = 6 * d0 * ea * t * np.exp((-np.pi**2 * bb3/a**2) - ea/(R*temp))/aa3\n",
    "\n",
    "    \n",
    "    Q = tt.switch(q <= 0.9,\n",
    "                z2,\n",
    "                 z3)\n",
    "    \n",
    "    T = tt.switch(q < 0.1, z1, Q)\n",
    "    \n",
    "    \n",
    "    return T"
   ]
  },
  {
   "cell_type": "code",
   "execution_count": 19,
   "metadata": {},
   "outputs": [],
   "source": [
    "def fracrelx(Ea, D0, a, temp, time): \n",
    "    R = 8.314e-3\n",
    "    D0t = (D0/(a**2))*np.exp(-Ea/(R*temp))*time\n",
    "    \n",
    "    q = (6./(np.pi**(3/2)))*np.sqrt((np.pi**2)*D0t)\n",
    "    \n",
    "    q1 = (6./(np.pi**(1.5)))*np.sqrt((np.pi**2)*D0t)\n",
    "    \n",
    "    q2 = (6./(np.pi**(3/2)))*np.sqrt((np.pi**2)*D0t)\\\n",
    "    - (3./(np.pi**2)) *((np.pi**2)* D0t)\n",
    "    \n",
    "    q3 = 1 - (6./(np.pi**2)) *np.exp(-(np.pi**2)*D0t)\n",
    "     \n",
    "    \n",
    "    \n",
    "    Q = tt.switch(q <= 0.9, q2, q3)\n",
    "    T = tt.switch(q < 0.1, q, Q)\n",
    "    \n",
    "    return T"
   ]
  },
  {
   "cell_type": "code",
   "execution_count": 20,
   "metadata": {},
   "outputs": [],
   "source": [
    "def frel_data(x): \n",
    "    y = np.cumsum(x) \n",
    "    dd = y/y.max()\n",
    "    return dd"
   ]
  },
  {
   "cell_type": "code",
   "execution_count": 21,
   "metadata": {},
   "outputs": [],
   "source": [
    "x = 100 *frel_data(a391)"
   ]
  },
  {
   "cell_type": "markdown",
   "metadata": {},
   "source": [
    "# The Age Spectra"
   ]
  },
  {
   "cell_type": "code",
   "execution_count": 9,
   "metadata": {},
   "outputs": [
    {
     "data": {
      "image/png": "[encoded data removed]",
      "text/plain": [
       "<Figure size 648x324 with 2 Axes>"
      ]
     },
     "metadata": {
      "needs_background": "light"
     },
     "output_type": "display_data"
    }
   ],
   "source": [
    "y = np.insert(x, 0, 0)\n",
    "age_plot = np.insert(data, 0, data[0])\n",
    "age_plot_err = np.insert(err, 0, err[0])\n",
    "\n",
    "\n",
    "fig, ax = plt.subplots(1,2, figsize = (9, 4.5))\n",
    "\n",
    "ax[0].fill_between(y, age_plot - age_plot_err, age_plot + age_plot_err, \n",
    "                  step = 'pre', \n",
    "                  color = 'grey', alpha = 0.7, \n",
    "                  edgecolor = 'k')\n",
    "ax[0].set_xlim(y.min(), y.max())\n",
    "\n",
    "ax[0].set_ylabel('Age (Ma)')\n",
    "ax[0].set_xlabel('Cumulative $^{39}$Ar released (%)')\n",
    "\n",
    "ax[1].plot(temp1,x, lw = 2, \n",
    "          color= 'k')\n",
    "ax[1].set_ylabel('Cumulative $^{39}$Ar released (%)')\n",
    "ax[1].set_xlabel('Temperature ($^{o}C$)')\n",
    "ax[1].set_ylim(0, 101)\n",
    "plt.tight_layout()"
   ]
  },
  {
   "cell_type": "code",
   "execution_count": 10,
   "metadata": {},
   "outputs": [],
   "source": [
    "data_f = x/100\n",
    "tempk = temp1 + 273.15\n",
    "t_obs = time1 * 60\n",
    "N = data.shape[0]\n",
    "R = 8.314e-3"
   ]
  },
  {
   "cell_type": "code",
   "execution_count": 11,
   "metadata": {},
   "outputs": [],
   "source": [
    "Q = pm.Model()\n",
    "with Q: \n",
    "    \"\"\"\n",
    "    Mixing Fraction\n",
    "    \"\"\"\n",
    "    phi = pm.Dirichlet('phi', \n",
    "                      a = np.array([0.5, 0.5]), \n",
    "                      shape = 2, \n",
    "                      testval = (0.5, 0.5))\n",
    "    \"\"\"\n",
    "    Assign each mixing fraction to\n",
    "    a parameter\n",
    "    \"\"\"\n",
    "    p1 = phi[0]\n",
    "    p2 = phi[1]\n",
    "    \n",
    "    \"\"\"\n",
    "    Bounding contraint for the mixing fraction\n",
    "    \"\"\" \n",
    "    p1_potential = pm.Potential('p1_con', \n",
    "                               tt.switch(p1 < 0.4, \n",
    "                                        -np.inf, 0) + \n",
    "                               tt.switch(p1 > 0.6, \n",
    "                                        -np.inf, 0))\n",
    "      \n",
    "    \"\"\"\n",
    "    Activation energy and Frequency Factor\n",
    "    \"\"\"\n",
    "    ea1 = pm.Normal('ea1', mu = 196,\n",
    "                    sd = 16)\n",
    "    ea2 = pm.Normal('ea2', mu = 196,\n",
    "                    sd = 16)\n",
    "    \n",
    "    lnd01 = pm.Normal('lnd01', mu = -2.6,\n",
    "                       sd = 1.9)\n",
    "    \n",
    "    lnd02 = pm.Normal('lnd02', mu = -2.6,\n",
    "                       sd = 1.9)\n",
    "    \n",
    "    d01 = pm.Deterministic('d01', np.exp(lnd01))\n",
    "    \n",
    "    d02 = pm.Deterministic('d02', np.exp(lnd02))\n",
    "    \n",
    "    \"\"\"\n",
    "    Diffusion lengthscale\n",
    "    ~ Grain radii\n",
    "    \"\"\"\n",
    "    a1 = pm.Uniform('a1', lower = 0.0177/2, \n",
    "                   upper= 0.025/2)\n",
    "    \n",
    "    a2 = pm.Uniform('a2', lower = 0.0177/2, \n",
    "                   upper= 0.025/2)"
   ]
  },
  {
   "cell_type": "code",
   "execution_count": 12,
   "metadata": {},
   "outputs": [],
   "source": [
    "with Q: \n",
    "    \"\"\"\n",
    "    Age Prior for each component\n",
    "    between 0 - 4.6 Ga\n",
    "    \"\"\"\n",
    "    age1 = pm.Uniform('age1', lower = 0.0, upper = 4600, \n",
    "                     testval = 200)\n",
    "    \n",
    "    age2 = pm.Uniform('age2', lower = 0.0, upper = 4600, \n",
    "                     testval = 100)\n",
    "    \n",
    "    \"\"\"\n",
    "    Constraint to prevent ages being equal\n",
    "    \"\"\"\n",
    "    age_cons = pm.Potential('age_con', \n",
    "                           tt.switch(age1 - age2 < 0, \n",
    "                                    -np.inf, 0))"
   ]
  },
  {
   "cell_type": "code",
   "execution_count": 13,
   "metadata": {},
   "outputs": [],
   "source": [
    "with Q: \n",
    "    \"\"\"\n",
    "    Age Spectra Model\n",
    "    \"\"\"\n",
    "    w1 = p1\n",
    "    w2 = p2\n",
    "\n",
    "    X = Increment(ea1, d01, a1,\n",
    "                  tempk, t_obs)\n",
    "    Y = Increment(ea2, d02, a2,\n",
    "                  tempk, t_obs)\n",
    "     \n",
    "    mu2 = ((w1*X)/(w1*X + w2*Y))*age1 + ((w2*Y)/(w1*X + w2*Y))*age2   \n",
    "\n",
    "    model2 = pm.Deterministic('model2', mu2)\n",
    "    \n",
    "    \"\"\"\n",
    "    Age model error\n",
    "    \"\"\"\n",
    "    age_model_error = pm.HalfNormal('age_model_error',\n",
    "                                   sd = 5, shape= N)"
   ]
  },
  {
   "cell_type": "code",
   "execution_count": 14,
   "metadata": {},
   "outputs": [],
   "source": [
    "with Q: \n",
    "    \"\"\"\n",
    "    Cumulative Release Model\n",
    "    \"\"\"\n",
    "    A = fracrelx(ea1, d01, a1,\n",
    "                 tempk, t_obs)\n",
    "    B = fracrelx(ea2, d02, a2,\n",
    "                 tempk, t_obs)\n",
    "    \n",
    "    mu1 = w1*A + w2*B\n",
    "\n",
    "   \n",
    "    \"\"\"\n",
    "    Monotonicity constraint\n",
    "    probably not needed but seems to \n",
    "    improve sampling\n",
    "    \"\"\"\n",
    "    for i in range(len(tempk) -1): \n",
    "        F_con1 = pm.Potential(f'F_con1{i}', \n",
    "                             tt.switch(A[i + 1] - A[i] <0, \n",
    "                                      -np.inf, 0) + \n",
    "                             tt.switch(B[i +1] - B[i] < 0, \n",
    "                                      -np.inf, 0))\n",
    "\n",
    "    for i in range(len(tempk) -1): \n",
    "        F_con2 = pm.Potential(f'F_con2{i}', \n",
    "                             tt.switch(mu1[i + 1] - mu1[i] <0, \n",
    "                                      -np.inf, 0))\n",
    "        \n",
    "    # Constraint to the fractional release model \n",
    "    frac_rel_cons = pm.Potential('frac_rel_cons', \n",
    "                                tt.switch(mu1 >1, -np.inf, 0))\n",
    "######################################################################    \n",
    "\n",
    "    \n",
    "    \"\"\"\n",
    "    Cumulative release model error\n",
    "    \"\"\"\n",
    "    f_err1 = pm.HalfNormal('f_err1', \n",
    "                           sd = 0.1,\n",
    "                          shape= N)"
   ]
  },
  {
   "cell_type": "code",
   "execution_count": 16,
   "metadata": {},
   "outputs": [],
   "source": [
    "with Q: \n",
    "    \"\"\"\n",
    "    Cumulative Release Likelihood\n",
    "    \"\"\"\n",
    "    L1 = pm.Normal('L1', mu = mu1, \n",
    "                   sd = f_err1, \n",
    "                   observed = data_f)\n",
    "    \n",
    "    \"\"\"\n",
    "    Age Spectra Likelihood\n",
    "    \"\"\"\n",
    "    L2 = Sum_of_Squares('L2', mu2, age_model_error, \n",
    "                        observed = data)\n"
   ]
  },
  {
   "cell_type": "markdown",
   "metadata": {},
   "source": [
    "# Check test point Likelihood"
   ]
  },
  {
   "cell_type": "code",
   "execution_count": 17,
   "metadata": {},
   "outputs": [
    {
     "data": {
      "text/plain": [
       "phi_stickbreaking__        -1.84\n",
       "ea1                        -3.69\n",
       "ea2                        -3.69\n",
       "lnd01                      -1.56\n",
       "lnd02                      -1.56\n",
       "a1_interval__              -1.39\n",
       "a2_interval__              -1.39\n",
       "age1_interval__            -3.18\n",
       "age2_interval__            -3.85\n",
       "age_model_error_log__     -12.32\n",
       "f_err1_log__              -12.32\n",
       "L1                        -11.43\n",
       "L2                      -1196.83\n",
       "Name: Log-probability of test_point, dtype: float64"
      ]
     },
     "execution_count": 17,
     "metadata": {},
     "output_type": "execute_result"
    }
   ],
   "source": [
    "Q.check_test_point()"
   ]
  },
  {
   "cell_type": "code",
   "execution_count": 18,
   "metadata": {},
   "outputs": [
    {
     "name": "stderr",
     "output_type": "stream",
     "text": [
      "Multiprocess sampling (2 chains in 2 jobs)\n",
      "CompoundStep\n",
      ">Metropolis: [phi]\n",
      ">Metropolis: [ea2]\n",
      ">Metropolis: [ea1]\n",
      ">Metropolis: [lnd02]\n",
      ">Metropolis: [lnd01]\n",
      ">Metropolis: [age2]\n",
      ">Metropolis: [age1]\n",
      ">Metropolis: [age_model_error]\n",
      ">Metropolis: [f_err1]\n",
      ">Metropolis: [a2]\n",
      ">Metropolis: [a1]\n",
      "Sampling 2 chains: 100%|██████████| 600000/600000 [24:41<00:00, 378.08draws/s]\n",
      "The estimated number of effective samples is smaller than 200 for some parameters.\n"
     ]
    }
   ],
   "source": [
    "SAMPLES = 100000\n",
    "BURN = 200000\n",
    "SEED = np.random.seed(1234)\n",
    "with Q: \n",
    "    step1 = pm.Metropolis([a1, a2,f_err1, \n",
    "                          age_model_error, \n",
    "                          age1, age2,\n",
    "                          d01, d02, \n",
    "                          ea1, ea2, phi])\n",
    "    \n",
    "    trace = pm.sample(SAMPLES, \n",
    "                      tune = BURN, \n",
    "                     step = [step1], \n",
    "                     cores = 2, \n",
    "                     random_seed = SEED)\n",
    "\n"
   ]
  },
  {
   "cell_type": "markdown",
   "metadata": {},
   "source": [
    "# Post Posterior Predictions"
   ]
  },
  {
   "cell_type": "code",
   "execution_count": 20,
   "metadata": {},
   "outputs": [
    {
     "name": "stderr",
     "output_type": "stream",
     "text": [
      "/Applications/anaconda3/lib/python3.7/site-packages/ipykernel_launcher.py:3: DeprecationWarning: sample_ppc() is deprecated.  Please use sample_posterior_predictive()\n",
      "  This is separate from the ipykernel package so we can avoid doing imports until\n",
      "100%|██████████| 10000/10000 [01:17<00:00, 128.91it/s]\n"
     ]
    }
   ],
   "source": [
    "SAMPLES = 100000\n",
    "with Q: \n",
    "    ppc = pm.sample_ppc(trace, 10000)"
   ]
  },
  {
   "cell_type": "markdown",
   "metadata": {},
   "source": [
    "# Posterior Predictive model and 95% Credible Intervals"
   ]
  },
  {
   "cell_type": "code",
   "execution_count": 21,
   "metadata": {},
   "outputs": [],
   "source": [
    "\n",
    "x1 = ppc['L1'].mean(axis = 0)\n",
    "x2 = ppc['L2'].mean(axis = 0)\n"
   ]
  },
  {
   "cell_type": "code",
   "execution_count": 22,
   "metadata": {},
   "outputs": [],
   "source": [
    "# 95% Credible model intervals \n",
    "low_age, high_age = np.percentile(ppc['L2'],\n",
    "                                  [2.5, 97.5], \n",
    "                                  axis=0)\n",
    "low_f, high_f = np.percentile(ppc['L1'], \n",
    "                             [2.5, 97.5], \n",
    "                             axis = 0)"
   ]
  },
  {
   "cell_type": "code",
   "execution_count": 23,
   "metadata": {},
   "outputs": [],
   "source": [
    "low_age_plot = np.insert(low_age, 0,\n",
    "                         low_age[0])\n",
    "high_age_plot = np.insert(high_age, 0,\n",
    "                          high_age[0])\n"
   ]
  },
  {
   "cell_type": "code",
   "execution_count": null,
   "metadata": {},
   "outputs": [],
   "source": [
    "\"\"\"\n",
    "Plotting Parameters\n",
    "\"\"\"\n",
    "\n",
    "x2_plot = np.insert(x2, 0, x2[0])\n",
    "low_age_plot = np.insert(low_age, 0, low_age[0])\n",
    "high_age_plot = np.insert(high_age, 0, high_age[0])\n",
    "\n",
    "fmod3 = f_model\n",
    "f_low3 = f_low\n",
    "f_high3 = f_high\n",
    "\n",
    "\n",
    "x1_plot = np.insert(y, 0, 0)\n",
    "age_plot = np.insert(data, 0, data[0])\n",
    "age_plot_err = np.insert(err, 0,err[0])"
   ]
  },
  {
   "cell_type": "markdown",
   "metadata": {},
   "source": [
    "# Final Plot"
   ]
  },
  {
   "cell_type": "code",
   "execution_count": 26,
   "metadata": {},
   "outputs": [],
   "source": [
    "import pandas as pd\n",
    "import matplotlib.pyplot as plt \n",
    "import seaborn as sns \n",
    "import numpy as np\n",
    "import os \n",
    "\n",
    "# Get all data \n",
    "cwd = os.chdir('/Users/danbarfod/Downloads')\n",
    "df3 = pd.read_csv('Kula_biotite_2_posterior.csv')\n",
    "\n",
    "x2 = df3['age_model'].values\n",
    "low_age = df3['age_model_low'].values\n",
    "high_age = df3['age_model_high'].values\n",
    "\n",
    "x1 = df3['frel_model'].values\n",
    "low_f = df3['frel_model_low'].values\n",
    "high_f = df3['frel_model_high'].values\n",
    "\n",
    "data = df3['age_data'].values \n",
    "err = df3['age_err'].values\n",
    "y = df3['frel_data'].values\n",
    "\n",
    "\n",
    "x2_plot = np.insert(x2, 0, x2[0])\n",
    "low_age_plot = np.insert(low_age, 0, low_age[0])\n",
    "high_age_plot = np.insert(high_age, 0, high_age[0])\n",
    "\n",
    "fmod3 = f_model\n",
    "f_low3 = f_low\n",
    "f_high3 = f_high\n",
    "\n",
    "\n",
    "\n",
    "x1_plot = np.insert(y, 0, 0)\n",
    "age_plot = np.insert(data, 0, data[0])\n",
    "age_plot_err = np.insert(err, 0,err[0])"
   ]
  },
  {
   "cell_type": "code",
   "execution_count": 31,
   "metadata": {},
   "outputs": [
    {
     "data": {
      "image/png": "[encoded data removed]",
      "text/plain": [
       "<Figure size 720x360 with 2 Axes>"
      ]
     },
     "metadata": {},
     "output_type": "display_data"
    }
   ],
   "source": [
    "y = np.insert(frel, 0, 0)\n",
    "age_plot = np.insert(data, 0, data[0])\n",
    "age_plot_err = np.insert(err, 0, err[0])\n",
    "\n",
    "\n",
    "fig, ax = plt.subplots(1,2, figsize = (9, 4.5))\n",
    "# Age\n",
    "ax[0].fill_between(y, age_plot - age_plot_err, age_plot + age_plot_err, \n",
    "                  step = 'pre', \n",
    "                  color = 'grey', alpha = 0.7, \n",
    "                  edgecolor = 'k', \n",
    "                  label = 'Data')\n",
    "ax[0].set_xlim(y.min(), y.max())\n",
    "\n",
    "\n",
    "ax[0].plot(x1_plot, x2_plot, 'r-',\n",
    "          label= 'Mean\\nPosterior\\nModel')\n",
    "ax[0].fill_between(x1_plot, low_age_plot, \n",
    "                   high_age_plot,\n",
    "                  step = 'pre', \n",
    "                  facecolor = 'r', alpha = 0.7, \n",
    "                  edgecolor = 'k', \n",
    "                  label = '95% Credible\\nInterval')\n",
    "\n",
    "for i in range(len(x1_plot)):\n",
    "    ax[0].vlines(x1_plot, low_age_plot, \n",
    "                   high_age_plot,\n",
    "                 color = 'k', \n",
    "                lw = 0.8)\n",
    "ax[0].set_ylabel('Age (Ma)')\n",
    "ax[0].set_xlabel('Cumulative $^{39}$Ar released (%)')\n",
    "\n",
    "\n",
    "# Cumulative Release\n",
    "\n",
    "ax[1].plot(temp1,x/100, lw = 2, \n",
    "          color= 'k')\n",
    "ax[1].plot(temp1,x1, lw = 2, \n",
    "          color= 'r')\n",
    "ax[1].fill_between(temp1, low_f, \n",
    "                   high_f,\n",
    "                  color = 'r', alpha = 0.7, \n",
    "                  edgecolor = 'k')\n",
    "ax[1].set_ylabel('Cumulative $^{39}$Ar released (%)')\n",
    "ax[1].set_xlabel('Temperature ($^{o}C$)')\n",
    "ax[1].set_ylim(0, 1.01)\n",
    "ax[0].legend(fontsize = 'x-small', loc = 3)\n",
    "plt.tight_layout()\n"
   ]
  },
  {
   "cell_type": "code",
   "execution_count": 26,
   "metadata": {},
   "outputs": [
    {
     "name": "stdout",
     "output_type": "stream",
     "text": [
      "141.20378482669753\n",
      "79.9915704593236\n"
     ]
    }
   ],
   "source": [
    "SAMPLES = 100000\n",
    "print(trace['age1'][-SAMPLES:].mean(axis =0))\n",
    "print(trace['age2'][-SAMPLES:].mean(axis =0))"
   ]
  },
  {
   "cell_type": "code",
   "execution_count": 27,
   "metadata": {},
   "outputs": [
    {
     "name": "stdout",
     "output_type": "stream",
     "text": [
      "17.301592976514605\n",
      "4.163469064816286\n"
     ]
    }
   ],
   "source": [
    "print(2*np.std(trace['age1'][-SAMPLES:]))\n",
    "print(2*np.std(trace['age2'][-SAMPLES:]))"
   ]
  },
  {
   "cell_type": "markdown",
   "metadata": {},
   "source": [
    "# Posterior DataFrame"
   ]
  },
  {
   "cell_type": "code",
   "execution_count": 28,
   "metadata": {},
   "outputs": [],
   "source": [
    "df = pd.DataFrame({\"age_model\": x2,\n",
    "                   \"age_model_low\":low_age, \n",
    "                   \"age_model_high\":high_age, \n",
    "                  \"frel_model\": x1, \n",
    "                   \"frel_model_low\": low_f, \n",
    "                   \"frel_model_high\":high_f, \n",
    "                   \"age_data\": data, \n",
    "                   \"age_err\": err,\n",
    "                   \"frel_data\":x/100, \n",
    "                   \"temp\":temp1\n",
    "                  })"
   ]
  },
  {
   "cell_type": "code",
   "execution_count": 29,
   "metadata": {},
   "outputs": [],
   "source": [
    "df.to_csv(\"Kula_biotite_2_posterior.csv\")"
   ]
  },
  {
   "cell_type": "code",
   "execution_count": 30,
   "metadata": {},
   "outputs": [],
   "source": [
    "# Trace to dataframe\n",
    "\n",
    "df2 = pm.trace_to_dataframe(trace[-SAMPLES::100])"
   ]
  },
  {
   "cell_type": "code",
   "execution_count": 31,
   "metadata": {},
   "outputs": [],
   "source": [
    "df2.to_csv('Kula_biotite_2_trace.csv')"
   ]
  },
  {
   "cell_type": "markdown",
   "metadata": {},
   "source": [
    "# PairGrid"
   ]
  },
  {
   "cell_type": "code",
   "execution_count": 34,
   "metadata": {},
   "outputs": [
    {
     "data": {
      "image/png": "[encoded data removed]",
      "text/plain": [
       "<Figure size 288x648 with 3 Axes>"
      ]
     },
     "metadata": {},
     "output_type": "display_data"
    }
   ],
   "source": [
    "logp_model = Q.logp\n",
    "logp = [logp_model(i) for i in trace[-SAMPLES::100]]\n",
    "trace_plot = trace[-SAMPLES::100]\n",
    "\n",
    "fig, ax = plt.subplots(3,1, figsize = (4,9))\n",
    "\n",
    "ax[0].plot(logp, color = 'grey')\n",
    "ax[0].set_ylabel('Log Probability')\n",
    "\n",
    "ax[1].plot(trace_plot['age1'])\n",
    "ax[1].set_ylabel('Age$_{1}$ (Ma)')\n",
    "ax[1].axhspan(144.49, 147.77, color = 'lightgrey', \n",
    "             label = 'Known Age $\\pm$ 2$\\sigma$')\n",
    "\n",
    "ax[2].plot(trace_plot['age2'])\n",
    "ax[2].set_ylabel('Age$_{2}$ (Ma)')\n",
    "ax[2].axhspan(74.51, 76.11,  color = 'lightgrey', \n",
    "             label = 'Known Age $\\pm$ 2$\\sigma$')\n",
    "\n",
    "\n",
    "plt.legend(fontsize= 'small')\n",
    "\n",
    "ax[2].set_xlabel('Iteration/100')\n",
    "plt.tight_layout()\n",
    "plt.savefig('logp_kula2.jpeg')"
   ]
  },
  {
   "cell_type": "code",
   "execution_count": 38,
   "metadata": {},
   "outputs": [
    {
     "data": {
      "image/png": "[encoded data removed]",
      "text/plain": [
       "<Figure size 540x540 with 42 Axes>"
      ]
     },
     "metadata": {},
     "output_type": "display_data"
    }
   ],
   "source": [
    "sns.set_style('ticks')\n",
    "font = {\"family\": 'Arial', \n",
    "       \"weight\": \"normal\",\n",
    "       'size': 9}\n",
    "\n",
    "plt.rc(\"font\", **font)\n",
    "\n",
    "g = sns.PairGrid(df_dataframe[::3]); \n",
    "g = g.map_diag(plt.hist, facecolor = 'lightgrey', \n",
    "              edgecolor = 'k', \n",
    "              alpha = 0.7)\n",
    "g.fig.set_size_inches(7.5, 7.5)\n",
    "g.map_offdiag(sns.kdeplot,  \n",
    "             cmap = 'Greys', \n",
    "              shade = True, \n",
    "              shade_lowest = False, \n",
    "              n_levels = 4)\n",
    "\n",
    "# Y-labels \n",
    "\n",
    "g.axes[0,0].set_ylabel('Age$_1$ (Ma)')\n",
    "g.axes[1,0].set_ylabel('Age$_2$ (Ma)')\n",
    "g.axes[2,0].set_ylabel('ln(D0$_1$) (cm$^{2}$s$^{-1}$)')\n",
    "g.axes[3,0].set_ylabel('ln(D0$_2$) (cm$^{2}$s$^{-1}$)')\n",
    "g.axes[4,0].set_ylabel('Ea$_1$ (kJmol$^{-1}$)')\n",
    "g.axes[5,0].set_ylabel('Ea$_2$ (kJmol$^{-1}$)')\n",
    "\n",
    "\n",
    "# X-labels\n",
    "\n",
    "g.axes[5,0].set_xlabel('Age$_1$ (Ma)')\n",
    "g.axes[5,1].set_xlabel('Age$_2$ (Ma)')\n",
    "g.axes[5,2].set_xlabel('ln(D0$_1$) (cm$^{2}$s$^{-1}$)')\n",
    "g.axes[5,3].set_xlabel('ln(D0$_2$) (cm$^{2}$s$^{-1}$)')\n",
    "g.axes[5,4].set_xlabel('Ea$_1$ (kJmol$^{-1}$)')\n",
    "g.axes[5,5].set_xlabel('Ea$_2$ (kJmol$^{-1}$)')\n",
    "\n",
    "# Set Axis Labels\n",
    "\n",
    "g.axes[5,0].set_xlim(100, 180)\n",
    "g.axes[5,0].locator_params(axis = 'x', nbins = 5)\n",
    "g.axes[0,0].set_ylim(100, 180)\n",
    "g.axes[0,0].locator_params(axis = 'y', nbins = 5)\n",
    "\n",
    "\n",
    "g.axes[5,1].set_xlim(60, 100)\n",
    "g.axes[5,1].locator_params(axis = 'x', nbins = 5)\n",
    "g.axes[1,0].set_ylim(60, 100)\n",
    "g.axes[1,0].locator_params(axis = 'y', nbins = 5)\n",
    "\n",
    "\n",
    "g.axes[5,2].set_xlim(-4, 4)\n",
    "g.axes[5,2].locator_params(axis = 'x', nbins = 5)\n",
    "g.axes[2,0].set_ylim(-4, 4)\n",
    "g.axes[2,0].locator_params(axis = 'y', nbins = 5)\n",
    "\n",
    "\n",
    "\n",
    "g.axes[5,3].set_xlim(-3,3)\n",
    "g.axes[5,3].locator_params(axis = 'x', nbins = 5)\n",
    "g.axes[3,0].set_ylim(-3,3)\n",
    "g.axes[3,0].locator_params(axis = 'y', nbins = 5)\n",
    "\n",
    "\n",
    "\n",
    "g.axes[5,4].set_xlim(140, 220)\n",
    "g.axes[5,4].locator_params(axis = 'x', nbins = 5)\n",
    "g.axes[4,0].set_ylim(140, 220)\n",
    "g.axes[4,0].locator_params(axis = 'y', nbins = 5)\n",
    "\n",
    "\n",
    "g.axes[5,5].set_xlim(140, 220)\n",
    "g.axes[5,5].locator_params(axis = 'x', nbins = 4)\n",
    "g.axes[5,0].set_ylim(140, 220)\n",
    "g.axes[5,0].locator_params(axis = 'y', nbins = 4)\n",
    "\n",
    "# Add Priors\n",
    "\n",
    "g.axes[0,0].axvspan(144.49, 147.77, color = 'k', \n",
    "                   alpha = 0.5, ymax = 1)\n",
    "\n",
    "g.axes[1,1].axvspan(74.51, 76.11, color = 'k', \n",
    "                   alpha = 0.5, ymax = 1)\n",
    "\n",
    "g.axes[2,2].axvspan(-6.4, 1.2, color = 'k', \n",
    "                   alpha = 0.5, ymax = 1)\n",
    "\n",
    "\n",
    "g.axes[3,3].axvspan(-6.4, 1.2, color = 'k', \n",
    "                   alpha = 0.5, ymax = 1)\n",
    "\n",
    "g.axes[4,4].axvspan(178, 214, color = 'k', \n",
    "                   alpha = 0.5, ymax = 1)\n",
    "\n",
    "g.axes[5,5].axvspan(178, 214, color = 'k', \n",
    "                   alpha = 0.5, ymax = 1)\n",
    "\n",
    "plt.savefig('kula_bio2_pg.pdf')"
   ]
  },
  {
   "cell_type": "code",
   "execution_count": 36,
   "metadata": {},
   "outputs": [],
   "source": [
    "df_dataframe = pd.DataFrame({\"age1\":df2['age1'].values,\n",
    "                           \"age2\": df2['age2'].values,\n",
    "                             \"d01\": np.log(df2['d01'].values),\n",
    "                            \"d02\": np.log(df2['d02'].values),\n",
    "                           \"ea1\": df2['ea1'].values, \n",
    "                           \"ea2\": df2['ea2'].values})"
   ]
  },
  {
   "cell_type": "code",
   "execution_count": null,
   "metadata": {},
   "outputs": [],
   "source": []
  },
  {
   "cell_type": "code",
   "execution_count": null,
   "metadata": {},
   "outputs": [],
   "source": []
  }
 ],
 "metadata": {
  "kernelspec": {
   "display_name": "Python 3",
   "language": "python",
   "name": "python3"
  },
  "language_info": {
   "codemirror_mode": {
    "name": "ipython",
    "version": 3
   },
   "file_extension": ".py",
   "mimetype": "text/x-python",
   "name": "python",
   "nbconvert_exporter": "python",
   "pygments_lexer": "ipython3",
   "version": "3.7.3"
  }
 },
 "nbformat": 4,
 "nbformat_minor": 2
}
