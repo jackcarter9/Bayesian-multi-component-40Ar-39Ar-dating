{
 "cells": [
  {
   "cell_type": "code",
   "execution_count": 129,
   "metadata": {},
   "outputs": [],
   "source": [
    "import numpy as np\n",
    "import pymc3 as pm \n",
    "import pandas as pd \n",
    "import matplotlib.pyplot as plt \n",
    "import seaborn as sns \n",
    "import os\n",
    "import theano\n",
    "from theano import tensor as tt\n",
    "\n",
    "sns.set_style(\"ticks\")\n",
    "\n",
    "font = { 'family' : 'Arial',\n",
    "         'weight' : 'normal',\n",
    "        'size'    : 17}\n",
    "plt.rc('font', **font)"
   ]
  },
  {
   "cell_type": "code",
   "execution_count": 130,
   "metadata": {},
   "outputs": [],
   "source": [
    "\"\"\"\n",
    "Random Seed for each model \n",
    "\"\"\"\n",
    "\n",
    "SEED = np.random.seed(1994)"
   ]
  },
  {
   "cell_type": "code",
   "execution_count": 131,
   "metadata": {},
   "outputs": [],
   "source": [
    "def fracrelx(Ea, D0, a, temp, time): \n",
    "    R = 8.314e-3\n",
    "    D0t = (D0/(a**2))*np.exp(-Ea/(R*temp))*time\n",
    "    \n",
    "    q = (6./(np.pi**(3/2)))*np.sqrt((np.pi**2)*D0t)\n",
    "    \n",
    "    q1 = (6./(np.pi**(1.5)))*np.sqrt((np.pi**2)*D0t)\n",
    "    \n",
    "    q2 = (6./(np.pi**(3/2)))*np.sqrt((np.pi**2)*D0t)\\\n",
    "    - (3./(np.pi**2)) *((np.pi**2)* D0t)\n",
    "    \n",
    "    q3 = 1 - (6./(np.pi**2)) *np.exp(-(np.pi**2)*D0t)\n",
    "     \n",
    "    \n",
    "    \n",
    "    Q = tt.switch(q <= 0.9, q2, q3)\n",
    "    T = tt.switch(q < 0.1, q, Q)\n",
    "    \n",
    "    return T"
   ]
  },
  {
   "cell_type": "code",
   "execution_count": 132,
   "metadata": {},
   "outputs": [],
   "source": [
    "def Increment(ea, d0, a, temp, t):\n",
    "    R = 8.314e-3\n",
    "    \n",
    "    D0t = (d0/(a**2))*np.exp(-ea/(R*temp))*t\n",
    "    \n",
    "    q = (6./(np.pi**(3/2)))*np.sqrt((np.pi**2)*D0t)\n",
    "    \n",
    "    aa1 = np.sqrt(np.pi) * R * temp**2\n",
    "    bb1 = d0*np.exp(-ea/(R*temp))*t\n",
    "    z1 = (3*ea *np.sqrt(bb1/a**2))/aa1\n",
    "    \n",
    "\n",
    "    aa2 = np.sqrt(np.pi) * R *temp**2\n",
    "    bb2 = d0*np.exp(-ea/(R*temp))*t\n",
    "    z2 = (3*ea*(np.sqrt(bb2/a**2) - np.sqrt(np.pi)*bb2/a**2))/aa2\n",
    "      \n",
    "    \n",
    "    aa3 = a**2 * R * temp**2\n",
    "    bb3 = d0*np.exp(-ea/(R*temp))*t\n",
    "    z3 = 6 * d0 * ea * t * np.exp((-np.pi**2 * bb3/a**2) - ea/(R*temp))/aa3\n",
    "    \n",
    "\n",
    "    \n",
    "    Q = tt.switch(q <= 0.9,\n",
    "                z2,\n",
    "                 z3)\n",
    "    \n",
    "    T = tt.switch(q < 0.1, z1, Q)\n",
    "    \n",
    "    \n",
    "    return T"
   ]
  },
  {
   "cell_type": "code",
   "execution_count": 133,
   "metadata": {},
   "outputs": [],
   "source": [
    "\"\"\"\n",
    "Muscovite 1 \n",
    "\n",
    "\"\"\"\n",
    "\n",
    "age_m1 = 71.85e6 \n",
    "age1_err = 0.39e6"
   ]
  },
  {
   "cell_type": "code",
   "execution_count": 134,
   "metadata": {},
   "outputs": [],
   "source": [
    "\"\"\"\n",
    "Muscovite 2\n",
    "\"\"\"\n",
    "\n",
    "age_m2 = 148.85e6\n",
    "age2_err = 0.79e6"
   ]
  },
  {
   "cell_type": "code",
   "execution_count": 135,
   "metadata": {},
   "outputs": [],
   "source": [
    "age_input = np.array([age_m1, \n",
    "                     age_m2])\n",
    "age_err_input = np.array([age1_err, \n",
    "                         age2_err])"
   ]
  },
  {
   "cell_type": "code",
   "execution_count": 136,
   "metadata": {},
   "outputs": [
    {
     "data": {
      "text/plain": [
       "'\\nCreate Age Spectra\\n'"
      ]
     },
     "execution_count": 136,
     "metadata": {},
     "output_type": "execute_result"
    }
   ],
   "source": [
    "\"\"\"\n",
    "Create Age Spectra\n",
    "\"\"\""
   ]
  },
  {
   "cell_type": "code",
   "execution_count": 137,
   "metadata": {},
   "outputs": [],
   "source": [
    "# Experiemental \n",
    "temp = np.array([725, 775, 820, 850, 875, \n",
    "                900, 915, 930, 945, \n",
    "                960, 980, 1000, 1030, \n",
    "                1400, 1500, 1750, 1950]) + 273.15\n",
    "time = 12*60*np.ones(len(temp))"
   ]
  },
  {
   "cell_type": "code",
   "execution_count": 138,
   "metadata": {},
   "outputs": [],
   "source": [
    "def age_spectra2(samples): \n",
    "    age = []\n",
    "    frel = []\n",
    "    for i in range(samples): \n",
    "        age1 = np.random.normal(74, 0.39)\n",
    "        age2 = np.random.normal(148, 0.78)\n",
    "        \n",
    "        ea1 = 260\n",
    "        ea2 = 260\n",
    "        \n",
    "        d01 = 2\n",
    "        d02 = 2\n",
    "\n",
    "        a1 = np.random.uniform(0.0177/2, 0.0250/2)\n",
    "        a2 = np.random.uniform(0.0177/2, 0.0250/2)\n",
    "        \n",
    "        c1 = Increment(ea1, d01, a1,\n",
    "                       temp, time).eval()\n",
    "        c2 = Increment(ea2, d01, a2,\n",
    "                       temp, time).eval()\n",
    "        \n",
    "        Q = 0.25*c1 + 0.75*c2 \n",
    "        \n",
    "        f1 = fracrelx(ea1, d01, a1, \n",
    "                 temp, time).eval()\n",
    "        \n",
    "        f2 = fracrelx(ea2, d02, a2, \n",
    "                 temp, time).eval()\n",
    "        \n",
    "        f_rel = 0.25*f1 + 0.75*f2\n",
    "        \n",
    "        frel.append(f_rel)\n",
    "        \n",
    "        # Telegraph peak Age Spectra\n",
    "        age_m = 0.25*(c1*age1)/Q + 0.75*(c2*age2)/Q \n",
    "        age.append(age_m)\n",
    "    return np.array(age), np.array(frel)"
   ]
  },
  {
   "cell_type": "code",
   "execution_count": 139,
   "metadata": {},
   "outputs": [],
   "source": [
    "age, frel = age_spectra2(10)"
   ]
  },
  {
   "cell_type": "code",
   "execution_count": 140,
   "metadata": {},
   "outputs": [],
   "source": [
    "data_age = age[-1000:].mean(axis = 0)\n",
    "data_age = data_age.reshape(len(temp))\n",
    "data_age;"
   ]
  },
  {
   "cell_type": "code",
   "execution_count": 141,
   "metadata": {},
   "outputs": [],
   "source": [
    "frel_data = frel.mean(axis = 0)\n",
    "frel_data = frel_data.reshape(len(temp))\n",
    "frel_data;"
   ]
  },
  {
   "cell_type": "code",
   "execution_count": 142,
   "metadata": {},
   "outputs": [],
   "source": [
    "low, high = np.percentile(age[-100:], [2.5, 97.5], axis = 0)\n",
    "frel_low, frel_high = np.percentile(frel, [30, 70.5], axis = 0)"
   ]
  },
  {
   "cell_type": "code",
   "execution_count": 143,
   "metadata": {},
   "outputs": [],
   "source": [
    "\"\"\"\n",
    "Plotting Parameters\n",
    "\"\"\"\n",
    "frel_plot = np.insert(frel.mean(axis = 0),0,0)\n",
    "age_plot = np.insert(age.mean(axis = 0), 0, age.mean(axis = 0)[0])\n",
    "age_low = np.insert(low, 0, low[0])\n",
    "age_high = np.insert(high, 0, high[0])"
   ]
  },
  {
   "cell_type": "code",
   "execution_count": 144,
   "metadata": {},
   "outputs": [],
   "source": [
    "import os \n",
    "cwd = os.chdir('/Users/jackcarter/Downloads')\n",
    "df_kula = pd.read_csv('Kula_Muscovite_1_data.csv')"
   ]
  },
  {
   "cell_type": "code",
   "execution_count": 145,
   "metadata": {},
   "outputs": [
    {
     "data": {
      "text/html": [
       "<div>\n",
       "<style>\n",
       "    .dataframe thead tr:only-child th {\n",
       "        text-align: right;\n",
       "    }\n",
       "\n",
       "    .dataframe thead th {\n",
       "        text-align: left;\n",
       "    }\n",
       "\n",
       "    .dataframe tbody tr th {\n",
       "        vertical-align: top;\n",
       "    }\n",
       "</style>\n",
       "<table border=\"1\" class=\"dataframe\">\n",
       "  <thead>\n",
       "    <tr style=\"text-align: right;\">\n",
       "      <th></th>\n",
       "      <th>temp1</th>\n",
       "      <th>time1</th>\n",
       "      <th>ar391</th>\n",
       "      <th>ar401</th>\n",
       "      <th>age1</th>\n",
       "      <th>age_err1</th>\n",
       "    </tr>\n",
       "  </thead>\n",
       "  <tbody>\n",
       "    <tr>\n",
       "      <th>0</th>\n",
       "      <td>725</td>\n",
       "      <td>12</td>\n",
       "      <td>92.06</td>\n",
       "      <td>6137.52</td>\n",
       "      <td>121.86</td>\n",
       "      <td>0.75</td>\n",
       "    </tr>\n",
       "    <tr>\n",
       "      <th>1</th>\n",
       "      <td>775</td>\n",
       "      <td>12</td>\n",
       "      <td>74.49</td>\n",
       "      <td>3128.33</td>\n",
       "      <td>131.81</td>\n",
       "      <td>0.61</td>\n",
       "    </tr>\n",
       "    <tr>\n",
       "      <th>2</th>\n",
       "      <td>820</td>\n",
       "      <td>12</td>\n",
       "      <td>185.53</td>\n",
       "      <td>7118.49</td>\n",
       "      <td>129.69</td>\n",
       "      <td>0.58</td>\n",
       "    </tr>\n",
       "    <tr>\n",
       "      <th>3</th>\n",
       "      <td>850</td>\n",
       "      <td>12</td>\n",
       "      <td>327.39</td>\n",
       "      <td>11860.89</td>\n",
       "      <td>127.00</td>\n",
       "      <td>0.57</td>\n",
       "    </tr>\n",
       "    <tr>\n",
       "      <th>4</th>\n",
       "      <td>875</td>\n",
       "      <td>12</td>\n",
       "      <td>487.57</td>\n",
       "      <td>18061.60</td>\n",
       "      <td>131.10</td>\n",
       "      <td>0.58</td>\n",
       "    </tr>\n",
       "  </tbody>\n",
       "</table>\n",
       "</div>"
      ],
      "text/plain": [
       "   temp1  time1   ar391     ar401    age1  age_err1\n",
       "0    725     12   92.06   6137.52  121.86      0.75\n",
       "1    775     12   74.49   3128.33  131.81      0.61\n",
       "2    820     12  185.53   7118.49  129.69      0.58\n",
       "3    850     12  327.39  11860.89  127.00      0.57\n",
       "4    875     12  487.57  18061.60  131.10      0.58"
      ]
     },
     "execution_count": 145,
     "metadata": {},
     "output_type": "execute_result"
    }
   ],
   "source": [
    "df_kula.head()"
   ]
  },
  {
   "cell_type": "code",
   "execution_count": 146,
   "metadata": {},
   "outputs": [],
   "source": [
    "def cumsum(x): \n",
    "    y = np.cumsum(x)\n",
    "    z = y/y[-1]\n",
    "    return z"
   ]
  },
  {
   "cell_type": "code",
   "execution_count": 147,
   "metadata": {},
   "outputs": [],
   "source": [
    "cum_data = cumsum(df_kula['ar391'].values)"
   ]
  },
  {
   "cell_type": "code",
   "execution_count": 148,
   "metadata": {},
   "outputs": [],
   "source": [
    "\"\"\"\n",
    "Kula Plot\n",
    "\"\"\"\n",
    "frel_k_plot = np.insert(cum_data, 0, 0)\n",
    "k_age_plot = np.insert(df_kula['age1'].values,\n",
    "                       0,\n",
    "                       df_kula['age1'].values[0])\n",
    "k_err_plot = np.insert(df_kula['age_err1'].values,\n",
    "                       0 ,\n",
    "                       df_kula['age_err1'].values[0])"
   ]
  },
  {
   "cell_type": "code",
   "execution_count": 149,
   "metadata": {},
   "outputs": [],
   "source": [
    "sns.set_style(\"ticks\")\n",
    "\n",
    "font = { 'family' : 'Arial',\n",
    "         'weight' : 'normal',\n",
    "        'size'    : 17}\n",
    "plt.rc('font', **font)"
   ]
  },
  {
   "cell_type": "code",
   "execution_count": 150,
   "metadata": {},
   "outputs": [
    {
     "data": {
      "image/png": "[encoded data removed]",
      "text/plain": [
       "<Figure size 360x360 with 1 Axes>"
      ]
     },
     "metadata": {},
     "output_type": "display_data"
    }
   ],
   "source": [
    "plt.figure(figsize = (5,5 ))\n",
    "plt.fill_between(frel_k_plot, \n",
    "                k_age_plot - 2*k_err_plot, \n",
    "                k_age_plot + 2*k_err_plot, \n",
    "                facecolor = 'grey', \n",
    "                edgecolor = 'k', \n",
    "                step = 'pre')\n",
    "plt.plot(frel_plot, age_plot/1e6, \n",
    "        label = 'Synthetic\\nMuscovite Mixture', \n",
    "        color = 'k', \n",
    "        drawstyle = 'steps')\n",
    "plt.fill_between(frel_plot, age_low, age_high, \n",
    "                facecolor = 'r', \n",
    "                edgecolor = 'k', \n",
    "                step = 'pre', \n",
    "                label = '95% CI', alpha = 0.7)\n",
    "\n",
    "for i in range(len(temp)): \n",
    "    plt.vlines(frel_plot[i], age_low[i], age_high[i], color = 'k', \n",
    "              lw = 0.9)\n",
    "    \n",
    "    \n",
    "for i in range(len(cum_data)): \n",
    "    plt.vlines(frel_k_plot[i], k_age_plot[i] - 2*k_err_plot[i],\n",
    "               k_age_plot[i] - 2*k_err_plot[i],\n",
    "               color = 'k', \n",
    "               lw = 1)\n",
    "    \n",
    "plt.ylim(90, 150)\n",
    "plt.xlim(0,1)\n",
    "plt.ylabel('Apparent Age (Ma)')\n",
    "plt.xlabel('Cumulative Release $^{39}$Ar')\n",
    "plt.legend(fontsize = (13))\n",
    "plt.tight_layout()\n",
    "plt.savefig('data_model_kula_mix_a.pdf')"
   ]
  },
  {
   "cell_type": "code",
   "execution_count": 151,
   "metadata": {},
   "outputs": [
    {
     "data": {
      "image/png": "[encoded data removed]",
      "text/plain": [
       "<Figure size 720x360 with 2 Axes>"
      ]
     },
     "metadata": {},
     "output_type": "display_data"
    }
   ],
   "source": [
    "sns.set_style(\"ticks\")\n",
    "\n",
    "font = { 'family' : 'Arial',\n",
    "         'weight' : 'normal',\n",
    "        'size'    : 17}\n",
    "plt.rc('font', **font)\n",
    "\n",
    "fig, ax = plt.subplots(1,2, figsize = (10, 5))\n",
    "ax[0].plot(frel_plot, age_plot, \n",
    "        label = 'Synthetic Muscovite Mixture', \n",
    "        color = 'k')\n",
    "ax[0].fill_between(frel_plot, age_low, age_high, \n",
    "                facecolor = 'lightgrey', \n",
    "                edgecolor = 'k', \n",
    "                step = 'pre', \n",
    "                label = '95% CI')\n",
    "ax[0].set_ylim(110, 140)\n",
    "ax[0].set_xlim(0,1)\n",
    "ax[0].set_ylabel('Apparent Age (Ma)')\n",
    "ax[0].set_xlabel('Cumulative Release $^{39}$Ar')\n",
    "ax[0].legend(fontsize = (15))\n",
    "\n",
    "\n",
    "for i in range(len(temp)): \n",
    "    ax[0].vlines(frel_plot[i], age_low[i], age_high[i], color = 'k', \n",
    "              lw = 0.6)\n",
    "\n",
    "\n",
    "ax[1].plot(temp-273.15, frel.mean(axis = 0), \n",
    "          color = 'k')\n",
    "ax[1].fill_between(temp-273.15, frel_low, frel_high, \n",
    "                  facecolor = 'lightgrey', \n",
    "                  edgecolor = 'k')\n",
    "ax[1].set_xlabel('Temperature $^{o}$C')\n",
    "ax[1].set_ylabel('Cumulative Release $^{39}$Ar')\n",
    "ax[0].set_ylim(90, 150)\n",
    "plt.tight_layout()\n",
    "plt.savefig('Modelled_muscovite_test.pdf')"
   ]
  },
  {
   "cell_type": "code",
   "execution_count": 152,
   "metadata": {},
   "outputs": [],
   "source": [
    "from theano import shared\n",
    "data_err = high - low\n",
    "s_data_err = shared(data_err)"
   ]
  },
  {
   "cell_type": "code",
   "execution_count": 99,
   "metadata": {},
   "outputs": [],
   "source": [
    "M_test = pm.Model()\n",
    "N = data_age.shape[0]\n",
    "with M_test: \n",
    "    \n",
    "    \"\"\"\n",
    "    Mixing Fraction\n",
    "    \"\"\"\n",
    "    \n",
    "    phi = pm.Dirichlet('phi', np.array([1, 1]), \n",
    "                      shape = 2)\n",
    "    \n",
    "    w1 = phi[0]\n",
    "    w2 = phi[1]\n",
    "    \n",
    "    ea1 = pm.Normal('ea1', mu = 260, sd = 60)\n",
    "    ea2 = pm.Normal('ea2', mu = 260, sd = 60)\n",
    "    \n",
    "    \n",
    "    lnd01 = pm.Lognormal('lnd01', 0.83, 2)\n",
    "    lnd02 = pm.Lognormal('lnd02', 0.83, 2)\n",
    "    \n",
    "    d01 = pm.Deterministic('d01', np.exp(lnd01))\n",
    "    d02 = pm.Deterministic('d02', np.exp(lnd01))\n",
    "    \n",
    "    a1 = pm.Uniform('a1', 0.0177/2, 0.0250/2)\n",
    "    a2 = pm.Uniform('a2', 0.0177/2, 0.0250/2)\n",
    "\n",
    "    "
   ]
  },
  {
   "cell_type": "code",
   "execution_count": 100,
   "metadata": {},
   "outputs": [],
   "source": [
    "with M_test: \n",
    "    age1 = pm.Uniform('age1',\n",
    "                     lower = 0.0, \n",
    "                     upper = 4600)\n",
    "    \n",
    "    age2 = pm.Uniform('age2',\n",
    "                     lower = 0.0, \n",
    "                     upper = 4600)\n"
   ]
  },
  {
   "cell_type": "code",
   "execution_count": 101,
   "metadata": {},
   "outputs": [],
   "source": [
    "with M_test: \n",
    "    f1 = fracrelx(ea1, d01,\n",
    "                 a1, temp, time)\n",
    "    \n",
    "    f2 = fracrelx(ea2, d02,\n",
    "                 a2, temp, time)\n",
    "    \n",
    "    frel_model = w1*f1  + w2*f2"
   ]
  },
  {
   "cell_type": "code",
   "execution_count": 102,
   "metadata": {},
   "outputs": [],
   "source": [
    "with M_test: \n",
    "    \n",
    "    f_err = pm.HalfNormal('f_err', \n",
    "                         sd = 0.1, \n",
    "                         shape = N)\n",
    "    \n",
    "    obs1 = pm.Normal('obs1', mu = frel_model, \n",
    "                    sd = f_err, observed = frel_data)"
   ]
  },
  {
   "cell_type": "code",
   "execution_count": 103,
   "metadata": {},
   "outputs": [],
   "source": [
    "with M_test: \n",
    "    c1 = Increment(ea1, d01,\n",
    "                 a1, temp, time)\n",
    "    \n",
    "    c2 = Increment(ea2, d02,\n",
    "                 a2, temp, time)\n",
    "    \n",
    "    q = w1*c1 + w2*c2\n",
    "    \n",
    "    age_model = age1*w1*c1/q + age2*w2*c2/q"
   ]
  },
  {
   "cell_type": "code",
   "execution_count": 104,
   "metadata": {},
   "outputs": [],
   "source": [
    "with M_test: \n",
    "    \n",
    "    age_err = pm.HalfNormal('age_err', \n",
    "                           sd = 10, \n",
    "                           shape = N)\n",
    "    \n",
    "    obs2 = pm.Normal('obs2', mu = age_model, \n",
    "                    sd = age_err, \n",
    "                    observed = data_age)"
   ]
  },
  {
   "cell_type": "code",
   "execution_count": 105,
   "metadata": {},
   "outputs": [
    {
     "data": {
      "text/plain": [
       "a1_interval__               -1.39\n",
       "a2_interval__               -1.39\n",
       "age1_interval__             -1.39\n",
       "age2_interval__             -1.39\n",
       "age_err_log__              -76.99\n",
       "ea1                         -5.01\n",
       "ea2                         -5.01\n",
       "f_err_log__                -76.99\n",
       "lnd01_log__                 -1.61\n",
       "lnd02_log__                 -1.61\n",
       "obs1                        22.79\n",
       "obs2                  -3710471.84\n",
       "phi_stickbreaking__         -1.39\n",
       "Name: Log-probability of test_point, dtype: float64"
      ]
     },
     "execution_count": 105,
     "metadata": {},
     "output_type": "execute_result"
    }
   ],
   "source": [
    "M_test.check_test_point()"
   ]
  },
  {
   "cell_type": "code",
   "execution_count": null,
   "metadata": {},
   "outputs": [],
   "source": [
    "SAMPLES = 10000\n",
    "BURN = 20000\n",
    "SEED = np.random.seed(1248)\n",
    "\n",
    "\n",
    "with M_test: \n",
    "    step1 = pm.Metropolis([age1, age2])\n",
    "    step2 = pm.Metropolis([age_err, f_err, \n",
    "                          a2, a1, d01, d02, \n",
    "                          ea1, ea2, phi])\n",
    "    trace = pm.sample(SAMPLES, tune = BURN, \n",
    "                      step = [step1, step2])"
   ]
  },
  {
   "cell_type": "code",
   "execution_count": 36,
   "metadata": {},
   "outputs": [
    {
     "name": "stderr",
     "output_type": "stream",
     "text": [
      "/Applications/anaconda3/lib/python3.6/site-packages/ipykernel_launcher.py:2: DeprecationWarning: sample_ppc() is deprecated.  Please use sample_posterior_predictive()\n",
      "  \n",
      "100%|██████████| 10000/10000 [01:22<00:00, 121.93it/s]\n"
     ]
    }
   ],
   "source": [
    "with M_test: \n",
    "    ppc = pm.sample_ppc(trace[-10000:], 10000)"
   ]
  },
  {
   "cell_type": "code",
   "execution_count": 212,
   "metadata": {},
   "outputs": [],
   "source": [
    "ppc_age = ppc['obs2'].mean(axis = 0)\n",
    "low_age, high_age = np.percentile(ppc['obs2'], \n",
    "                                 [2.5, 97.5], axis = 0)\n",
    "\n",
    "ppc_frel = ppc['obs1'].mean(axis = 0)"
   ]
  },
  {
   "cell_type": "code",
   "execution_count": 213,
   "metadata": {},
   "outputs": [],
   "source": [
    "\"\"\"\n",
    "Posterior Plotting \n",
    "\"\"\"\n",
    "age_post_plot = np.insert(ppc_age, 0, ppc_age[0])\n",
    "age_low_plot = np.insert(low_age, 0, low_age[0])\n",
    "age_high_plot = np.insert(high_age, 0, high_age[0])\n",
    "\n",
    "ppc_frel_plot = np.insert(ppc_frel, 0, 0)\n",
    "\n",
    "low_frel_plot, high_frel_plot = np.percentile(ppc['obs1'], [2.5, \n",
    "                                                           97.5], \n",
    "                                             axis = 0)"
   ]
  },
  {
   "cell_type": "code",
   "execution_count": 214,
   "metadata": {},
   "outputs": [
    {
     "data": {
      "image/png": "[encoded data removed]",
      "text/plain": [
       "<Figure size 720x360 with 2 Axes>"
      ]
     },
     "metadata": {},
     "output_type": "display_data"
    }
   ],
   "source": [
    "fig, ax = plt.subplots(1,2, figsize = (10, 5))\n",
    "\n",
    "ax[0].plot(ppc_frel_plot, age_post_plot, \n",
    "        label = 'Mean Posterior Model', \n",
    "        color = 'r', \n",
    "          drawstyle = 'steps')\n",
    "\n",
    "\n",
    "ax[0].fill_between(ppc_frel_plot, age_low_plot, \n",
    "                  age_high_plot, facecolor = 'r', \n",
    "                  step = 'pre', \n",
    "                  alpha = 0.8, \n",
    "                  edgecolor = 'k', \n",
    "                  label = '95% Credible interval')\n",
    "\n",
    "\n",
    "\n",
    "ax[1].plot(temp-273.15, ppc_frel, \n",
    "          color = 'r')\n",
    "ax[1].fill_between(temp-273.15, low_frel_plot, high_frel_plot, \n",
    "                  facecolor = 'r', \n",
    "                  edgecolor = 'k')\n",
    "ax[1].set_xlabel('Temperature $^{o}$C')\n",
    "ax[1].set_ylabel('Cumulative Release $^{39}$Ar')\n",
    "\n",
    "\n",
    "ax[0].plot(frel_plot, age_plot/1e6, \n",
    "        label = 'Synthetic\\nMuscovite mixture', \n",
    "        color = 'k', \n",
    "          drawstyle = 'steps')\n",
    "\n",
    "ax[0].fill_between(frel_plot, age_low, age_high, \n",
    "                facecolor = 'lightgrey', \n",
    "                edgecolor = 'k', \n",
    "                step = 'pre', \n",
    "                label = '95% CI Sythetic mixture', \n",
    "                  alpha = 0.4)\n",
    "ax[0].legend(fontsize = (15))\n",
    "\n",
    "\n",
    "ax[1].plot(temp-273.15, frel.mean(axis = 0), \n",
    "          color = 'k',\n",
    "          label = 'Synthetic data')\n",
    "ax[1].plot(temp-273.15, ppc_frel, \n",
    "          color = 'k', ls =  '--', \n",
    "          label = 'Mean Posterior\\nModel')\n",
    "ax[1].fill_between(temp-273.15, frel_low, frel_high, \n",
    "                  facecolor = 'r', \n",
    "                  edgecolor = 'k', \n",
    "                  alpha = 0.9, \n",
    "                  label = '95% Credible\\ninterval')\n",
    "for i in range(len(temp)): \n",
    "    ax[0].vlines(ppc_frel_plot, age_low_plot, \n",
    "                  age_high_plot, \n",
    "                color = 'k', \n",
    "                lw = 1)\n",
    "    ax[0].vlines(frel_plot, age_low, age_high, \n",
    "                color = 'k', \n",
    "                lw = 1)\n",
    "\n",
    "ax[0].set_ylabel('Apparent Age (Ma)')\n",
    "ax[0].set_xlabel('Cumulative Release $^{39}$Ar')\n",
    "ax[0].set_ylim(0, 200)\n",
    "ax[0].set_xlim(0,1)\n",
    "ax[1].legend(fontsize =15)\n",
    "\n",
    "plt.tight_layout()\n",
    "plt.savefig('Muscovite_test_case_model_out.pdf')"
   ]
  },
  {
   "cell_type": "code",
   "execution_count": 215,
   "metadata": {},
   "outputs": [
    {
     "data": {
      "text/plain": [
       "144.00187237285692"
      ]
     },
     "execution_count": 215,
     "metadata": {},
     "output_type": "execute_result"
    }
   ],
   "source": [
    "trace['age1'][-10000:].mean(axis = 0)"
   ]
  },
  {
   "cell_type": "code",
   "execution_count": 216,
   "metadata": {},
   "outputs": [
    {
     "data": {
      "text/plain": [
       "108.4090853305002"
      ]
     },
     "execution_count": 216,
     "metadata": {},
     "output_type": "execute_result"
    }
   ],
   "source": [
    "trace['age2'][-10000:].mean(axis = 0)"
   ]
  },
  {
   "cell_type": "code",
   "execution_count": 217,
   "metadata": {},
   "outputs": [
    {
     "data": {
      "text/plain": [
       "1.5302270940180702"
      ]
     },
     "execution_count": 217,
     "metadata": {},
     "output_type": "execute_result"
    }
   ],
   "source": [
    "trace['age1'][-10000:].std(axis = 0)"
   ]
  },
  {
   "cell_type": "code",
   "execution_count": 218,
   "metadata": {},
   "outputs": [
    {
     "data": {
      "text/plain": [
       "2.421172171468774"
      ]
     },
     "execution_count": 218,
     "metadata": {},
     "output_type": "execute_result"
    }
   ],
   "source": [
    "trace['age2'][-10000:].std(axis = 0)"
   ]
  },
  {
   "cell_type": "code",
   "execution_count": 71,
   "metadata": {},
   "outputs": [],
   "source": [
    "z = np.array([trace['age2'][-10000:].mean(axis = 0), \n",
    "             trace['age1'][-10000:].mean(axis = 0)])\n",
    "z_err = np.array([trace['age2'][-10000:].std(axis = 0),\n",
    "                 trace['age1'][-10000:].std(axis = 0)])"
   ]
  },
  {
   "cell_type": "code",
   "execution_count": 72,
   "metadata": {},
   "outputs": [
    {
     "data": {
      "image/png": "[encoded data removed]",
      "text/plain": [
       "<Figure size 432x288 with 1 Axes>"
      ]
     },
     "metadata": {},
     "output_type": "display_data"
    }
   ],
   "source": [
    "plt.errorbar(np.linspace(1, 2, 2),z, fmt = 'o',\n",
    "            yerr = z_err, markersize = 10, \n",
    "            markerfacecolor = 'r', \n",
    "            markeredgecolor = 'k', color = 'k', \n",
    "            label = 'Model')\n",
    "\n",
    "\n",
    "plt.errorbar(np.linspace(1, 2, 2),age_input/1e6, fmt = 'o',\n",
    "            yerr = age_err_input/1e6, markersize = 10, \n",
    "            markerfacecolor = 'lightgrey', \n",
    "            markeredgecolor = 'k', color = 'k', \n",
    "            label = 'Input Age')\n",
    "\n",
    "legend = plt.legend(frameon = True, loc = 'best')\n",
    "\n",
    "legend.get_frame().set_edgecolor('k')\n",
    "plt.xlim(0, 3)\n",
    "plt.ylim(0, 300)\n",
    "plt.xticks([])\n",
    "plt.ylabel('Age (Ma)')\n",
    "plt.tight_layout()\n",
    "plt.savefig('muscovite_model_comparison.pdf')"
   ]
  }
 ],
 "metadata": {
  "kernelspec": {
   "display_name": "Python 3",
   "language": "python",
   "name": "python3"
  },
  "language_info": {
   "codemirror_mode": {
    "name": "ipython",
    "version": 3
   },
   "file_extension": ".py",
   "mimetype": "text/x-python",
   "name": "python",
   "nbconvert_exporter": "python",
   "pygments_lexer": "ipython3",
   "version": "3.6.8"
  }
 },
 "nbformat": 4,
 "nbformat_minor": 2
}
